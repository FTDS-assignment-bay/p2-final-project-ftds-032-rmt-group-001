{
  "cells": [
    {
      "cell_type": "markdown",
      "metadata": {
        "id": "6tM12k-6YYRc"
      },
      "source": [
        "# **Final Project**\n",
        "\n",
        "### **Group 1**"
      ]
    },
    {
      "cell_type": "markdown",
      "metadata": {
        "id": "3VUF1oR0YkP3"
      },
      "source": [
        "### **A. Introduction**\n",
        "\n",
        "**Team Members:**\n",
        "- Maurits Tobing *as a Data Engineer*\n",
        "- Iznia Azyati *as a Data Scientist*\n",
        "- Talitha Salsabila *as a Data Analyst*\n",
        "\n",
        "\n",
        "**Dataset**: [Coursera Courses Dataset](https://www.kaggle.com/datasets/muhammadanasmahmood/coursera-courses-dataset)\n",
        "\n",
        "**Hugging Face**: [GuideMe - Course Recommender System](https://huggingface.co/spaces/MARVT/GuideMe_CourseRecommenderSystem_FinalProject)\n",
        "\n"
      ]
    },
    {
      "cell_type": "markdown",
      "metadata": {
        "id": "zajuukbNZjRT"
      },
      "source": [
        "---\n",
        "\n",
        "\n",
        "**Problem Statement**\n",
        "\n",
        "Students often face challenges in finding courses that align with their specific interests. The process of manually searching through extensive course catalogs can be time-consuming and overwhelming. Additionally, students may have difficulty identifying courses taught by particular instructors or covering specific topics. There is a need for an efficient and accurate solution to streamline this search process and connect students with their desired courses quickly.\n",
        "\n",
        "**GuideMe** is a recommender system project designed to help students find their desired courses using input search. By leveraging Natural Language Processing (NLP) with Word2Vec methods, GuideMe aims to efficiently connect students with courses that best match their interests and preferences.\n",
        "\n",
        "\n",
        "**Objectives**:\n",
        "\n",
        "To provide accurate recommedations to users, GuideMe is optimized through the following steps:\n",
        "- Analyze 4 text columns (title, description, instructors, modules) by employing NLP with Word2Vec methods.\n",
        "- Measure similarity between text input and the dataset using Cosine Similarity to find the best match.\n",
        "- Recommend courses to users with similarity score above XX.\n",
        "\n",
        "\n",
        "**Dataset Overview**\n",
        "\n",
        "The dataset is acquired from Kaggle [Coursera Courses Dataset](https://www.kaggle.com/datasets/muhammadanasmahmood/coursera-courses-dataset) and through web scraping the online learning platform, Coursera. Visit the [Coursera Homepage](https://coursera.org/) to explore more the available courses.\n",
        "\n",
        "---"
      ]
    },
    {
      "cell_type": "markdown",
      "metadata": {
        "id": "fnLPfleudD4m"
      },
      "source": [
        "#### **Kolom yang Akan Di-NLP-kan**\n",
        "\n",
        "**1. Title (title)**\n",
        "  - Penjelasan: Nama kursus memberikan gambaran singkat tentang topik utama kursus tersebut.\n",
        "  - NLP Task: Ekstraksi fitur, analisis kata kunci, dan pembobotan berdasarkan kemiripan kata.\n",
        "\n",
        "**2. Description (description)**\n",
        "  - Penjelasan: Deskripsi kursus memberikan detail tentang apa yang akan dipelajari oleh peserta kursus.\n",
        "  - NLP Task: Analisis sentimen, pengelompokan tematik, dan pembobotan kata untuk mengukur relevansi.\n",
        "\n",
        "**3. Modules (modules)**\n",
        "- Penjelasan: Informasi tentang modul kursus memberikan gambaran lebih mendetail mengenai isi dan struktur kursus.\n",
        "- NLP Task: Ekstraksi fitur, analisis topik, dan pembobotan kata untuk menentukan relevansi dengan input pengguna.\n",
        "\n",
        "**4. Instructor (instructor)**\n",
        "- Penjelasan: Nama instruktur memberikan informasi tentang siapa yang mengajar kursus.\n",
        "- NLP Task: Ekstraksi fitur dan analisis kata kunci untuk memastikan bahwa nama instruktur relevan dengan pencarian pengguna."
      ]
    },
    {
      "cell_type": "markdown",
      "metadata": {
        "id": "ZC4Fsxnjazzq"
      },
      "source": [
        "### **B. Libraries**\n"
      ]
    },
    {
      "cell_type": "markdown",
      "metadata": {},
      "source": [
        "Import Library yang dibutuhkan"
      ]
    },
    {
      "cell_type": "code",
      "execution_count": 9,
      "metadata": {},
      "outputs": [
        {
          "name": "stderr",
          "output_type": "stream",
          "text": [
            "[nltk_data] Downloading package stopwords to\n",
            "[nltk_data]     C:\\Users\\hp\\AppData\\Roaming\\nltk_data...\n",
            "[nltk_data]   Package stopwords is already up-to-date!\n",
            "[nltk_data] Downloading package punkt to\n",
            "[nltk_data]     C:\\Users\\hp\\AppData\\Roaming\\nltk_data...\n",
            "[nltk_data]   Package punkt is already up-to-date!\n"
          ]
        },
        {
          "data": {
            "text/plain": [
              "True"
            ]
          },
          "execution_count": 9,
          "metadata": {},
          "output_type": "execute_result"
        }
      ],
      "source": [
        "# Import necessary libraries\n",
        "\n",
        "import pandas as pd\n",
        "import numpy as np\n",
        "import missingno as msno\n",
        "from sklearn.metrics.pairwise import cosine_similarity\n",
        "from gensim.models import Word2Vec\n",
        "import re\n",
        "from nltk.corpus import stopwords\n",
        "from nltk.tokenize import word_tokenize\n",
        "from nltk.stem import PorterStemmer\n",
        "import nltk\n",
        "from langdetect import detect, LangDetectException, DetectorFactory\n",
        "\n",
        "# Download stopwords and punkt tokenizer for nltk\n",
        "\n",
        "nltk.download('stopwords')\n",
        "nltk.download('punkt')\n"
      ]
    },
    {
      "cell_type": "markdown",
      "metadata": {},
      "source": [
        "### **C. Data Loading & Data Checking**\n"
      ]
    },
    {
      "cell_type": "markdown",
      "metadata": {},
      "source": [
        "#### **1. Load Dataset**"
      ]
    },
    {
      "cell_type": "code",
      "execution_count": 21,
      "metadata": {},
      "outputs": [],
      "source": [
        "# Load the CSV file\n",
        "df = pd.read_csv('coursera_dataset.csv')"
      ]
    },
    {
      "cell_type": "code",
      "execution_count": 11,
      "metadata": {
        "colab": {
          "base_uri": "https://localhost:8080/",
          "height": 591
        },
        "id": "gXn75-q9WHpC",
        "outputId": "eeeb62b3-4684-4f07-d4ca-601ac5aa47c3"
      },
      "outputs": [
        {
          "data": {
            "text/html": [
              "<div>\n",
              "<style scoped>\n",
              "    .dataframe tbody tr th:only-of-type {\n",
              "        vertical-align: middle;\n",
              "    }\n",
              "\n",
              "    .dataframe tbody tr th {\n",
              "        vertical-align: top;\n",
              "    }\n",
              "\n",
              "    .dataframe thead th {\n",
              "        text-align: right;\n",
              "    }\n",
              "</style>\n",
              "<table border=\"1\" class=\"dataframe\">\n",
              "  <thead>\n",
              "    <tr style=\"text-align: right;\">\n",
              "      <th></th>\n",
              "      <th>title</th>\n",
              "      <th>category</th>\n",
              "      <th>type</th>\n",
              "      <th>level</th>\n",
              "      <th>description</th>\n",
              "      <th>price</th>\n",
              "      <th>rating</th>\n",
              "      <th>duration</th>\n",
              "      <th>language</th>\n",
              "      <th>prerequisites</th>\n",
              "      <th>syllabus</th>\n",
              "      <th>modules</th>\n",
              "      <th>instructor</th>\n",
              "      <th>certificate_type</th>\n",
              "      <th>association</th>\n",
              "      <th>image</th>\n",
              "      <th>url</th>\n",
              "      <th>timestamp</th>\n",
              "    </tr>\n",
              "  </thead>\n",
              "  <tbody>\n",
              "    <tr>\n",
              "      <th>0</th>\n",
              "      <td>Networking in Google Cloud Specialization</td>\n",
              "      <td>Networking</td>\n",
              "      <td>specializations</td>\n",
              "      <td>Intermediate Level</td>\n",
              "      <td>This specialization gives participants broad s...</td>\n",
              "      <td>free</td>\n",
              "      <td>4.8</td>\n",
              "      <td>Approximately 4 months to complete</td>\n",
              "      <td>English</td>\n",
              "      <td>no prerequisites needed</td>\n",
              "      <td>No specify data</td>\n",
              "      <td>Google Cloud Fundamentals: Core Infrastructure...</td>\n",
              "      <td>Google Cloud Training</td>\n",
              "      <td>Shareable Certificate</td>\n",
              "      <td>Google Cloud</td>\n",
              "      <td>https://s3.amazonaws.com/coursera_assets/meta_...</td>\n",
              "      <td>https://www.coursera.org/specializations/netwo...</td>\n",
              "      <td>2022-07-29 23:58:34</td>\n",
              "    </tr>\n",
              "    <tr>\n",
              "      <th>1</th>\n",
              "      <td>Two Speed IT: How Companies Can Surf the Digit...</td>\n",
              "      <td>Business Essentials</td>\n",
              "      <td>course</td>\n",
              "      <td>Beginner Level</td>\n",
              "      <td>Transform or disappear, the Darwinism of IT: I...</td>\n",
              "      <td>free</td>\n",
              "      <td>4.3</td>\n",
              "      <td>Approx. 14 hours to complete</td>\n",
              "      <td>English</td>\n",
              "      <td>no prerequisites needed</td>\n",
              "      <td>Introduction  Start here!  IT and the CIO in t...</td>\n",
              "      <td>Introduction ; IT and the CIO in the Digital W...</td>\n",
              "      <td>Antoine Gourévitch ; Vanessa Lyon ; Eric Baudson</td>\n",
              "      <td>Shareable Certificate</td>\n",
              "      <td>CentraleSupélec</td>\n",
              "      <td>https://s3.amazonaws.com/coursera_assets/meta_...</td>\n",
              "      <td>https://www.coursera.org/learn/2-speed-it</td>\n",
              "      <td>2022-07-29 23:58:34</td>\n",
              "    </tr>\n",
              "    <tr>\n",
              "      <th>2</th>\n",
              "      <td>Fundamentals of Network Communication</td>\n",
              "      <td>Computer Security and Networks</td>\n",
              "      <td>course</td>\n",
              "      <td>Intermediate Level</td>\n",
              "      <td>In this course, we trace the evolution of netw...</td>\n",
              "      <td>free</td>\n",
              "      <td>4.6</td>\n",
              "      <td>Approx. 15 hours to complete</td>\n",
              "      <td>English</td>\n",
              "      <td>no prerequisites needed</td>\n",
              "      <td>Communication Networks and Services  This modu...</td>\n",
              "      <td>Communication Networks and Services ; Layered ...</td>\n",
              "      <td>Xiaobo Zhou ; University of Colorado System</td>\n",
              "      <td>Shareable Certificate</td>\n",
              "      <td>University of Colorado System</td>\n",
              "      <td>https://s3.amazonaws.com/coursera_assets/meta_...</td>\n",
              "      <td>https://www.coursera.org/learn/fundamentals-ne...</td>\n",
              "      <td>2022-07-29 23:58:54</td>\n",
              "    </tr>\n",
              "    <tr>\n",
              "      <th>3</th>\n",
              "      <td>Design a User Experience for Social Good &amp; Pre...</td>\n",
              "      <td>Design and Product</td>\n",
              "      <td>course</td>\n",
              "      <td>Beginner Level</td>\n",
              "      <td>Design a User Experience for Social Good and P...</td>\n",
              "      <td>free</td>\n",
              "      <td>4.8</td>\n",
              "      <td>Approx. 71 hours to complete</td>\n",
              "      <td>English</td>\n",
              "      <td>no prerequisites needed</td>\n",
              "      <td>Starting the UX design process: empathize, def...</td>\n",
              "      <td>Design for social good and strengthen your por...</td>\n",
              "      <td>Google Career Certificates</td>\n",
              "      <td>Shareable Certificate</td>\n",
              "      <td>Google</td>\n",
              "      <td>https://s3.amazonaws.com/coursera_assets/meta_...</td>\n",
              "      <td>https://www.coursera.org/learn/ux-design-jobs</td>\n",
              "      <td>2022-07-29 23:59:20</td>\n",
              "    </tr>\n",
              "    <tr>\n",
              "      <th>4</th>\n",
              "      <td>Building Database Applications in PHP</td>\n",
              "      <td>Mobile and Web Development</td>\n",
              "      <td>course</td>\n",
              "      <td>Intermediate Level</td>\n",
              "      <td>In this course, we'll look at the object orien...</td>\n",
              "      <td>free</td>\n",
              "      <td>4.9</td>\n",
              "      <td>Approx. 24 hours to complete</td>\n",
              "      <td>English</td>\n",
              "      <td>no prerequisites needed</td>\n",
              "      <td>PHP Objects  We look at the object oriented pa...</td>\n",
              "      <td>PHP Objects ; Connecting PHP and MySQL ; PHP C...</td>\n",
              "      <td>Charles Russell Severance</td>\n",
              "      <td>Shareable Certificate</td>\n",
              "      <td>University of Michigan</td>\n",
              "      <td>https://s3.amazonaws.com/coursera_assets/meta_...</td>\n",
              "      <td>https://www.coursera.org/learn/database-applic...</td>\n",
              "      <td>2022-07-29 23:59:20</td>\n",
              "    </tr>\n",
              "  </tbody>\n",
              "</table>\n",
              "</div>"
            ],
            "text/plain": [
              "                                               title  \\\n",
              "0          Networking in Google Cloud Specialization   \n",
              "1  Two Speed IT: How Companies Can Surf the Digit...   \n",
              "2              Fundamentals of Network Communication   \n",
              "3  Design a User Experience for Social Good & Pre...   \n",
              "4              Building Database Applications in PHP   \n",
              "\n",
              "                         category             type               level  \\\n",
              "0                      Networking  specializations  Intermediate Level   \n",
              "1             Business Essentials           course      Beginner Level   \n",
              "2  Computer Security and Networks           course  Intermediate Level   \n",
              "3              Design and Product           course      Beginner Level   \n",
              "4      Mobile and Web Development           course  Intermediate Level   \n",
              "\n",
              "                                         description price  rating  \\\n",
              "0  This specialization gives participants broad s...  free     4.8   \n",
              "1  Transform or disappear, the Darwinism of IT: I...  free     4.3   \n",
              "2  In this course, we trace the evolution of netw...  free     4.6   \n",
              "3  Design a User Experience for Social Good and P...  free     4.8   \n",
              "4  In this course, we'll look at the object orien...  free     4.9   \n",
              "\n",
              "                             duration language            prerequisites  \\\n",
              "0  Approximately 4 months to complete  English  no prerequisites needed   \n",
              "1        Approx. 14 hours to complete  English  no prerequisites needed   \n",
              "2        Approx. 15 hours to complete  English  no prerequisites needed   \n",
              "3        Approx. 71 hours to complete  English  no prerequisites needed   \n",
              "4        Approx. 24 hours to complete  English  no prerequisites needed   \n",
              "\n",
              "                                            syllabus  \\\n",
              "0                                    No specify data   \n",
              "1  Introduction  Start here!  IT and the CIO in t...   \n",
              "2  Communication Networks and Services  This modu...   \n",
              "3  Starting the UX design process: empathize, def...   \n",
              "4  PHP Objects  We look at the object oriented pa...   \n",
              "\n",
              "                                             modules  \\\n",
              "0  Google Cloud Fundamentals: Core Infrastructure...   \n",
              "1  Introduction ; IT and the CIO in the Digital W...   \n",
              "2  Communication Networks and Services ; Layered ...   \n",
              "3  Design for social good and strengthen your por...   \n",
              "4  PHP Objects ; Connecting PHP and MySQL ; PHP C...   \n",
              "\n",
              "                                         instructor       certificate_type  \\\n",
              "0                             Google Cloud Training  Shareable Certificate   \n",
              "1  Antoine Gourévitch ; Vanessa Lyon ; Eric Baudson  Shareable Certificate   \n",
              "2       Xiaobo Zhou ; University of Colorado System  Shareable Certificate   \n",
              "3                        Google Career Certificates  Shareable Certificate   \n",
              "4                         Charles Russell Severance  Shareable Certificate   \n",
              "\n",
              "                     association  \\\n",
              "0                   Google Cloud   \n",
              "1                CentraleSupélec   \n",
              "2  University of Colorado System   \n",
              "3                         Google   \n",
              "4         University of Michigan   \n",
              "\n",
              "                                               image  \\\n",
              "0  https://s3.amazonaws.com/coursera_assets/meta_...   \n",
              "1  https://s3.amazonaws.com/coursera_assets/meta_...   \n",
              "2  https://s3.amazonaws.com/coursera_assets/meta_...   \n",
              "3  https://s3.amazonaws.com/coursera_assets/meta_...   \n",
              "4  https://s3.amazonaws.com/coursera_assets/meta_...   \n",
              "\n",
              "                                                 url            timestamp  \n",
              "0  https://www.coursera.org/specializations/netwo...  2022-07-29 23:58:34  \n",
              "1          https://www.coursera.org/learn/2-speed-it  2022-07-29 23:58:34  \n",
              "2  https://www.coursera.org/learn/fundamentals-ne...  2022-07-29 23:58:54  \n",
              "3      https://www.coursera.org/learn/ux-design-jobs  2022-07-29 23:59:20  \n",
              "4  https://www.coursera.org/learn/database-applic...  2022-07-29 23:59:20  "
            ]
          },
          "execution_count": 11,
          "metadata": {},
          "output_type": "execute_result"
        }
      ],
      "source": [
        "\n",
        "# Display the first 5 rows\n",
        "df.head(5)"
      ]
    },
    {
      "cell_type": "code",
      "execution_count": 12,
      "metadata": {},
      "outputs": [
        {
          "data": {
            "text/html": [
              "<div>\n",
              "<style scoped>\n",
              "    .dataframe tbody tr th:only-of-type {\n",
              "        vertical-align: middle;\n",
              "    }\n",
              "\n",
              "    .dataframe tbody tr th {\n",
              "        vertical-align: top;\n",
              "    }\n",
              "\n",
              "    .dataframe thead th {\n",
              "        text-align: right;\n",
              "    }\n",
              "</style>\n",
              "<table border=\"1\" class=\"dataframe\">\n",
              "  <thead>\n",
              "    <tr style=\"text-align: right;\">\n",
              "      <th></th>\n",
              "      <th>title</th>\n",
              "      <th>category</th>\n",
              "      <th>type</th>\n",
              "      <th>level</th>\n",
              "      <th>description</th>\n",
              "      <th>price</th>\n",
              "      <th>rating</th>\n",
              "      <th>duration</th>\n",
              "      <th>language</th>\n",
              "      <th>prerequisites</th>\n",
              "      <th>syllabus</th>\n",
              "      <th>modules</th>\n",
              "      <th>instructor</th>\n",
              "      <th>certificate_type</th>\n",
              "      <th>association</th>\n",
              "      <th>image</th>\n",
              "      <th>url</th>\n",
              "      <th>timestamp</th>\n",
              "    </tr>\n",
              "  </thead>\n",
              "  <tbody>\n",
              "    <tr>\n",
              "      <th>198</th>\n",
              "      <td>Data Science: Foundations using R Specialization</td>\n",
              "      <td>Data Analysis</td>\n",
              "      <td>specializations</td>\n",
              "      <td>Beginner Level</td>\n",
              "      <td>Ask the right questions, manipulate data sets,...</td>\n",
              "      <td>free</td>\n",
              "      <td>4.6</td>\n",
              "      <td>Approximately 5 months to complete</td>\n",
              "      <td>English</td>\n",
              "      <td>no prerequisites needed</td>\n",
              "      <td>No specify data</td>\n",
              "      <td>The Data Scientist’s Toolbox ; R Programming ;...</td>\n",
              "      <td>Roger D. Peng, PhD ; Brian Caffo, PhD</td>\n",
              "      <td>Shareable Certificate</td>\n",
              "      <td>General</td>\n",
              "      <td>https://s3.amazonaws.com/coursera_assets/meta_...</td>\n",
              "      <td>https://www.coursera.org/specializations/data-...</td>\n",
              "      <td>2022-07-30 00:45:32</td>\n",
              "    </tr>\n",
              "    <tr>\n",
              "      <th>199</th>\n",
              "      <td>IBM Data Science Professional Certificate</td>\n",
              "      <td>Data Analysis</td>\n",
              "      <td>professional certificates</td>\n",
              "      <td>Beginner Level</td>\n",
              "      <td>Data science is one of the hottest professions...</td>\n",
              "      <td>free</td>\n",
              "      <td>4.6</td>\n",
              "      <td>Approximately 11 months to complete</td>\n",
              "      <td>English</td>\n",
              "      <td>no prerequisites needed</td>\n",
              "      <td>No specify data</td>\n",
              "      <td>Get exclusive access to career resources upon ...</td>\n",
              "      <td>IBM Skills Network Team ; Dr. Pooja ; Abhishek...</td>\n",
              "      <td>Shareable Certificate</td>\n",
              "      <td>IBM Skills Network</td>\n",
              "      <td>https://s3.amazonaws.com/coursera_assets/meta_...</td>\n",
              "      <td>https://www.coursera.org/professional-certific...</td>\n",
              "      <td>2022-07-30 00:45:32</td>\n",
              "    </tr>\n",
              "    <tr>\n",
              "      <th>200</th>\n",
              "      <td>Data Science Specialization</td>\n",
              "      <td>Data Analysis</td>\n",
              "      <td>specializations</td>\n",
              "      <td>Beginner Level</td>\n",
              "      <td>Ask the right questions, manipulate data sets,...</td>\n",
              "      <td>free</td>\n",
              "      <td>4.5</td>\n",
              "      <td>Approximately 11 months to complete</td>\n",
              "      <td>English</td>\n",
              "      <td>no prerequisites needed</td>\n",
              "      <td>No specify data</td>\n",
              "      <td>The Data Scientist’s Toolbox ; R Programming ;...</td>\n",
              "      <td>Roger D. Peng, PhD ; Brian Caffo, PhD ; Jeff L...</td>\n",
              "      <td>Shareable Certificate</td>\n",
              "      <td>General</td>\n",
              "      <td>https://s3.amazonaws.com/coursera_assets/meta_...</td>\n",
              "      <td>https://www.coursera.org/specializations/jhu-d...</td>\n",
              "      <td>2022-07-30 00:45:32</td>\n",
              "    </tr>\n",
              "    <tr>\n",
              "      <th>201</th>\n",
              "      <td>Introduction to Physical Chemistry</td>\n",
              "      <td>Chemistry</td>\n",
              "      <td>course</td>\n",
              "      <td>Beginner Level</td>\n",
              "      <td>Chemical reactions underpin the production of ...</td>\n",
              "      <td>free</td>\n",
              "      <td>4.7</td>\n",
              "      <td>Approx. 19 hours to complete</td>\n",
              "      <td>English</td>\n",
              "      <td>no prerequisites needed</td>\n",
              "      <td>Thermodynamics I  This module explores thermod...</td>\n",
              "      <td>Thermodynamics I ; Thermodynamics II ; Virtual...</td>\n",
              "      <td>Patrick J O'Malley, D.Sc ; Michael W. Anderson...</td>\n",
              "      <td>Shareable Certificate</td>\n",
              "      <td>University of Manchester</td>\n",
              "      <td>https://s3.amazonaws.com/coursera_assets/meta_...</td>\n",
              "      <td>https://www.coursera.org/learn/physical-chemistry</td>\n",
              "      <td>2022-07-30 00:45:41</td>\n",
              "    </tr>\n",
              "    <tr>\n",
              "      <th>202</th>\n",
              "      <td>Introduction to Chemistry:  Structures and Sol...</td>\n",
              "      <td>Chemistry</td>\n",
              "      <td>course</td>\n",
              "      <td>Beginner Level</td>\n",
              "      <td>This is an introductory course for students wi...</td>\n",
              "      <td>free</td>\n",
              "      <td>4.7</td>\n",
              "      <td>Approx. 17 hours to complete</td>\n",
              "      <td>English</td>\n",
              "      <td>no prerequisites needed</td>\n",
              "      <td>light  We will cover introduction to light, Bo...</td>\n",
              "      <td>Review Videos (I) ; light ; Quantum Number, Le...</td>\n",
              "      <td>Prof. Dorian A. Canelas</td>\n",
              "      <td>Shareable Certificate</td>\n",
              "      <td>Duke University</td>\n",
              "      <td>https://s3.amazonaws.com/coursera_assets/meta_...</td>\n",
              "      <td>https://www.coursera.org/learn/basic-chemistry</td>\n",
              "      <td>2022-07-30 00:45:42</td>\n",
              "    </tr>\n",
              "  </tbody>\n",
              "</table>\n",
              "</div>"
            ],
            "text/plain": [
              "                                                 title       category  \\\n",
              "198   Data Science: Foundations using R Specialization  Data Analysis   \n",
              "199          IBM Data Science Professional Certificate  Data Analysis   \n",
              "200                        Data Science Specialization  Data Analysis   \n",
              "201                 Introduction to Physical Chemistry      Chemistry   \n",
              "202  Introduction to Chemistry:  Structures and Sol...      Chemistry   \n",
              "\n",
              "                          type           level  \\\n",
              "198            specializations  Beginner Level   \n",
              "199  professional certificates  Beginner Level   \n",
              "200            specializations  Beginner Level   \n",
              "201                     course  Beginner Level   \n",
              "202                     course  Beginner Level   \n",
              "\n",
              "                                           description price  rating  \\\n",
              "198  Ask the right questions, manipulate data sets,...  free     4.6   \n",
              "199  Data science is one of the hottest professions...  free     4.6   \n",
              "200  Ask the right questions, manipulate data sets,...  free     4.5   \n",
              "201  Chemical reactions underpin the production of ...  free     4.7   \n",
              "202  This is an introductory course for students wi...  free     4.7   \n",
              "\n",
              "                                duration language            prerequisites  \\\n",
              "198   Approximately 5 months to complete  English  no prerequisites needed   \n",
              "199  Approximately 11 months to complete  English  no prerequisites needed   \n",
              "200  Approximately 11 months to complete  English  no prerequisites needed   \n",
              "201         Approx. 19 hours to complete  English  no prerequisites needed   \n",
              "202         Approx. 17 hours to complete  English  no prerequisites needed   \n",
              "\n",
              "                                              syllabus  \\\n",
              "198                                    No specify data   \n",
              "199                                    No specify data   \n",
              "200                                    No specify data   \n",
              "201  Thermodynamics I  This module explores thermod...   \n",
              "202  light  We will cover introduction to light, Bo...   \n",
              "\n",
              "                                               modules  \\\n",
              "198  The Data Scientist’s Toolbox ; R Programming ;...   \n",
              "199  Get exclusive access to career resources upon ...   \n",
              "200  The Data Scientist’s Toolbox ; R Programming ;...   \n",
              "201  Thermodynamics I ; Thermodynamics II ; Virtual...   \n",
              "202  Review Videos (I) ; light ; Quantum Number, Le...   \n",
              "\n",
              "                                            instructor       certificate_type  \\\n",
              "198              Roger D. Peng, PhD ; Brian Caffo, PhD  Shareable Certificate   \n",
              "199  IBM Skills Network Team ; Dr. Pooja ; Abhishek...  Shareable Certificate   \n",
              "200  Roger D. Peng, PhD ; Brian Caffo, PhD ; Jeff L...  Shareable Certificate   \n",
              "201  Patrick J O'Malley, D.Sc ; Michael W. Anderson...  Shareable Certificate   \n",
              "202                            Prof. Dorian A. Canelas  Shareable Certificate   \n",
              "\n",
              "                  association  \\\n",
              "198                   General   \n",
              "199        IBM Skills Network   \n",
              "200                   General   \n",
              "201  University of Manchester   \n",
              "202           Duke University   \n",
              "\n",
              "                                                 image  \\\n",
              "198  https://s3.amazonaws.com/coursera_assets/meta_...   \n",
              "199  https://s3.amazonaws.com/coursera_assets/meta_...   \n",
              "200  https://s3.amazonaws.com/coursera_assets/meta_...   \n",
              "201  https://s3.amazonaws.com/coursera_assets/meta_...   \n",
              "202  https://s3.amazonaws.com/coursera_assets/meta_...   \n",
              "\n",
              "                                                   url            timestamp  \n",
              "198  https://www.coursera.org/specializations/data-...  2022-07-30 00:45:32  \n",
              "199  https://www.coursera.org/professional-certific...  2022-07-30 00:45:32  \n",
              "200  https://www.coursera.org/specializations/jhu-d...  2022-07-30 00:45:32  \n",
              "201  https://www.coursera.org/learn/physical-chemistry  2022-07-30 00:45:41  \n",
              "202     https://www.coursera.org/learn/basic-chemistry  2022-07-30 00:45:42  "
            ]
          },
          "execution_count": 12,
          "metadata": {},
          "output_type": "execute_result"
        }
      ],
      "source": [
        "# Show the last 5 data\n",
        "df.tail(5)"
      ]
    },
    {
      "cell_type": "code",
      "execution_count": 13,
      "metadata": {
        "colab": {
          "base_uri": "https://localhost:8080/"
        },
        "id": "OTQAsQJ9n3PT",
        "outputId": "06e58b7f-6556-4213-844d-734b78c020b8"
      },
      "outputs": [
        {
          "name": "stdout",
          "output_type": "stream",
          "text": [
            "<class 'pandas.core.frame.DataFrame'>\n",
            "RangeIndex: 203 entries, 0 to 202\n",
            "Data columns (total 18 columns):\n",
            " #   Column            Non-Null Count  Dtype  \n",
            "---  ------            --------------  -----  \n",
            " 0   title             203 non-null    object \n",
            " 1   category          203 non-null    object \n",
            " 2   type              203 non-null    object \n",
            " 3   level             203 non-null    object \n",
            " 4   description       203 non-null    object \n",
            " 5   price             203 non-null    object \n",
            " 6   rating            203 non-null    float64\n",
            " 7   duration          203 non-null    object \n",
            " 8   language          203 non-null    object \n",
            " 9   prerequisites     203 non-null    object \n",
            " 10  syllabus          203 non-null    object \n",
            " 11  modules           203 non-null    object \n",
            " 12  instructor        203 non-null    object \n",
            " 13  certificate_type  203 non-null    object \n",
            " 14  association       203 non-null    object \n",
            " 15  image             203 non-null    object \n",
            " 16  url               203 non-null    object \n",
            " 17  timestamp         203 non-null    object \n",
            "dtypes: float64(1), object(17)\n",
            "memory usage: 28.7+ KB\n"
          ]
        }
      ],
      "source": [
        "# Check data summary\n",
        "df.info()"
      ]
    },
    {
      "cell_type": "markdown",
      "metadata": {},
      "source": [
        "Dataset terdiri dari 17 kolom bertipe `object` dan 1 kolom dengan tipe `float`"
      ]
    },
    {
      "cell_type": "code",
      "execution_count": 14,
      "metadata": {
        "colab": {
          "base_uri": "https://localhost:8080/"
        },
        "id": "OJGN_qCGoGZr",
        "outputId": "8ee43611-d509-495f-e984-528e6f48fdbc"
      },
      "outputs": [
        {
          "data": {
            "text/plain": [
              "title               0\n",
              "category            0\n",
              "type                0\n",
              "level               0\n",
              "description         0\n",
              "price               0\n",
              "rating              0\n",
              "duration            0\n",
              "language            0\n",
              "prerequisites       0\n",
              "syllabus            0\n",
              "modules             0\n",
              "instructor          0\n",
              "certificate_type    0\n",
              "association         0\n",
              "image               0\n",
              "url                 0\n",
              "timestamp           0\n",
              "dtype: int64"
            ]
          },
          "execution_count": 14,
          "metadata": {},
          "output_type": "execute_result"
        }
      ],
      "source": [
        "# Check missing values\n",
        "df.isnull().sum()"
      ]
    },
    {
      "cell_type": "markdown",
      "metadata": {},
      "source": [
        "Tidak ada missing value pada dataset ini, karena sebelumnya sudah dicleaning pada proses preparation."
      ]
    },
    {
      "cell_type": "code",
      "execution_count": 16,
      "metadata": {
        "colab": {
          "base_uri": "https://localhost:8080/",
          "height": 423
        },
        "id": "uvqngebBoJn_",
        "outputId": "245e5d40-4b92-4b66-93b5-f80d39e3c0d3"
      },
      "outputs": [
        {
          "data": {
            "text/plain": [
              "<Axes: >"
            ]
          },
          "execution_count": 16,
          "metadata": {},
          "output_type": "execute_result"
        },
        {
          "data": {
            "image/png": "[encoded data removed]",
            "text/plain": [
              "<Figure size 2500x1000 with 2 Axes>"
            ]
          },
          "metadata": {},
          "output_type": "display_data"
        }
      ],
      "source": [
        "# Visualize the missing data\n",
        "msno.matrix(df)"
      ]
    },
    {
      "cell_type": "markdown",
      "metadata": {
        "id": "IljDjnPKoaJz"
      },
      "source": [
        "Setelah identifikasi missing value, langkah selanjutnya adalah cek duplikat rows dalam dataset dengan `duplicated().sum()`"
      ]
    },
    {
      "cell_type": "markdown",
      "metadata": {},
      "source": [
        "#### **2. Check for Duplicates**"
      ]
    },
    {
      "cell_type": "code",
      "execution_count": 17,
      "metadata": {
        "colab": {
          "base_uri": "https://localhost:8080/"
        },
        "id": "r6p9DclFonkT",
        "outputId": "9ef4a71d-adf5-4777-9e98-7c5bf14d06ee"
      },
      "outputs": [
        {
          "data": {
            "text/plain": [
              "0"
            ]
          },
          "execution_count": 17,
          "metadata": {},
          "output_type": "execute_result"
        }
      ],
      "source": [
        "# Check total of duplicated rows\n",
        "df.duplicated().sum()"
      ]
    },
    {
      "cell_type": "markdown",
      "metadata": {
        "id": "OSViZwgKotBV"
      },
      "source": [
        "Hasilnya dikonfirmasi bahwa tidak ada baris yang duplikat pada dataset."
      ]
    },
    {
      "cell_type": "markdown",
      "metadata": {},
      "source": [
        "#### **3. Check Column Names**"
      ]
    },
    {
      "cell_type": "code",
      "execution_count": 22,
      "metadata": {
        "colab": {
          "base_uri": "https://localhost:8080/"
        },
        "id": "VmtGkNRWo2Rv",
        "outputId": "5d901633-77ff-4033-c219-36eb60b8d4e3"
      },
      "outputs": [
        {
          "data": {
            "text/plain": [
              "Index(['title', 'category', 'type', 'level', 'description', 'price', 'rating',\n",
              "       'duration', 'language', 'prerequisites', 'syllabus', 'modules',\n",
              "       'instructor', 'certificate_type', 'association', 'image', 'url',\n",
              "       'timestamp'],\n",
              "      dtype='object')"
            ]
          },
          "execution_count": 22,
          "metadata": {},
          "output_type": "execute_result"
        }
      ],
      "source": [
        "# Check column names\n",
        "df.columns"
      ]
    },
    {
      "cell_type": "markdown",
      "metadata": {
        "id": "XJJTYlbPfAX8"
      },
      "source": [
        "### **D. Feature Engineering**"
      ]
    },
    {
      "cell_type": "markdown",
      "metadata": {
        "id": "mWeC5j1gpVmo"
      },
      "source": [
        "#### **1. Drop Kolom yang Tidak Relevan**"
      ]
    },
    {
      "cell_type": "markdown",
      "metadata": {
        "id": "x58pjVhTiSeY"
      },
      "source": [
        "Setelah data loading dan data checking, selanjutnya dilakukan preprocessing teks pada kolom-kolom yang relevan seperti `title`, `description`, `modules`, dan `instructor`. Jadi kolom-kolom yang tidak relevan akan di drop."
      ]
    },
    {
      "cell_type": "code",
      "execution_count": 23,
      "metadata": {
        "colab": {
          "base_uri": "https://localhost:8080/",
          "height": 467
        },
        "id": "twV41R-9qh6S",
        "outputId": "12eb2357-fb12-40b2-f81c-3c1fe0d3def6"
      },
      "outputs": [
        {
          "data": {
            "text/html": [
              "<div>\n",
              "<style scoped>\n",
              "    .dataframe tbody tr th:only-of-type {\n",
              "        vertical-align: middle;\n",
              "    }\n",
              "\n",
              "    .dataframe tbody tr th {\n",
              "        vertical-align: top;\n",
              "    }\n",
              "\n",
              "    .dataframe thead th {\n",
              "        text-align: right;\n",
              "    }\n",
              "</style>\n",
              "<table border=\"1\" class=\"dataframe\">\n",
              "  <thead>\n",
              "    <tr style=\"text-align: right;\">\n",
              "      <th></th>\n",
              "      <th>title</th>\n",
              "      <th>description</th>\n",
              "      <th>modules</th>\n",
              "      <th>instructor</th>\n",
              "    </tr>\n",
              "  </thead>\n",
              "  <tbody>\n",
              "    <tr>\n",
              "      <th>0</th>\n",
              "      <td>Networking in Google Cloud Specialization</td>\n",
              "      <td>This specialization gives participants broad s...</td>\n",
              "      <td>Google Cloud Fundamentals: Core Infrastructure...</td>\n",
              "      <td>Google Cloud Training</td>\n",
              "    </tr>\n",
              "    <tr>\n",
              "      <th>1</th>\n",
              "      <td>Two Speed IT: How Companies Can Surf the Digit...</td>\n",
              "      <td>Transform or disappear, the Darwinism of IT: I...</td>\n",
              "      <td>Introduction ; IT and the CIO in the Digital W...</td>\n",
              "      <td>Antoine Gourévitch ; Vanessa Lyon ; Eric Baudson</td>\n",
              "    </tr>\n",
              "    <tr>\n",
              "      <th>2</th>\n",
              "      <td>Fundamentals of Network Communication</td>\n",
              "      <td>In this course, we trace the evolution of netw...</td>\n",
              "      <td>Communication Networks and Services ; Layered ...</td>\n",
              "      <td>Xiaobo Zhou ; University of Colorado System</td>\n",
              "    </tr>\n",
              "    <tr>\n",
              "      <th>3</th>\n",
              "      <td>Design a User Experience for Social Good &amp; Pre...</td>\n",
              "      <td>Design a User Experience for Social Good and P...</td>\n",
              "      <td>Design for social good and strengthen your por...</td>\n",
              "      <td>Google Career Certificates</td>\n",
              "    </tr>\n",
              "    <tr>\n",
              "      <th>4</th>\n",
              "      <td>Building Database Applications in PHP</td>\n",
              "      <td>In this course, we'll look at the object orien...</td>\n",
              "      <td>PHP Objects ; Connecting PHP and MySQL ; PHP C...</td>\n",
              "      <td>Charles Russell Severance</td>\n",
              "    </tr>\n",
              "  </tbody>\n",
              "</table>\n",
              "</div>"
            ],
            "text/plain": [
              "                                               title  \\\n",
              "0          Networking in Google Cloud Specialization   \n",
              "1  Two Speed IT: How Companies Can Surf the Digit...   \n",
              "2              Fundamentals of Network Communication   \n",
              "3  Design a User Experience for Social Good & Pre...   \n",
              "4              Building Database Applications in PHP   \n",
              "\n",
              "                                         description  \\\n",
              "0  This specialization gives participants broad s...   \n",
              "1  Transform or disappear, the Darwinism of IT: I...   \n",
              "2  In this course, we trace the evolution of netw...   \n",
              "3  Design a User Experience for Social Good and P...   \n",
              "4  In this course, we'll look at the object orien...   \n",
              "\n",
              "                                             modules  \\\n",
              "0  Google Cloud Fundamentals: Core Infrastructure...   \n",
              "1  Introduction ; IT and the CIO in the Digital W...   \n",
              "2  Communication Networks and Services ; Layered ...   \n",
              "3  Design for social good and strengthen your por...   \n",
              "4  PHP Objects ; Connecting PHP and MySQL ; PHP C...   \n",
              "\n",
              "                                         instructor  \n",
              "0                             Google Cloud Training  \n",
              "1  Antoine Gourévitch ; Vanessa Lyon ; Eric Baudson  \n",
              "2       Xiaobo Zhou ; University of Colorado System  \n",
              "3                        Google Career Certificates  \n",
              "4                         Charles Russell Severance  "
            ]
          },
          "execution_count": 23,
          "metadata": {},
          "output_type": "execute_result"
        }
      ],
      "source": [
        "# Drop unnecessary columns\n",
        "df.drop(['category', 'type', 'level', 'price', 'rating',\n",
        "       'duration', 'language', 'prerequisites', 'syllabus',\n",
        "       'certificate_type', 'association', 'image', 'url',\n",
        "       'timestamp'], axis = 1, inplace = True)\n",
        "\n",
        "# Show the first 5 rows\n",
        "df.head()"
      ]
    },
    {
      "cell_type": "markdown",
      "metadata": {},
      "source": [
        "#### **2. Language Detection**\n",
        "\n",
        "Deteksi bahasa untuk kolom yang relevan."
      ]
    },
    {
      "cell_type": "code",
      "execution_count": 25,
      "metadata": {},
      "outputs": [],
      "source": [
        "# Mengatur seed untuk detektor bahasa agar konsisten\n",
        "DetectorFactory.seed = 0\n",
        "\n",
        "# Load the dataset\n",
        "file_path = 'coursera_dataset.csv'  \n",
        "dataset = pd.read_csv(file_path)\n",
        "\n",
        "# Deteksi Bahasa untuk kolom yang relevan\n",
        "columns_to_detect = ['title', 'description', 'modules', 'instructor']\n",
        "\n",
        "def detect_language(text):\n",
        "    try:\n",
        "        if text.strip():  # Mengecek apakah teks tidak kosong\n",
        "            return detect(text)\n",
        "        else:\n",
        "            return 'unknown'\n",
        "    except LangDetectException:\n",
        "        return 'unknown'\n",
        "\n",
        "for col in columns_to_detect:\n",
        "    dataset[f'{col}_language_detected'] = dataset[col].apply(detect_language)\n"
      ]
    },
    {
      "cell_type": "markdown",
      "metadata": {},
      "source": [
        "Daftar kolom yang akan dideteksi bahasanya yaitu kolom `title`, `description`, `modules`, dan `instructor`. Fungsi `detect_language` untuk mendeteksi bahasa teks dan mengembalikan 'unknown' jika teks kosong atau terjadi kesalahan. Kemudian dataset yang telah dideteksi bahasanya disimpan ke dalam file CSV baru. "
      ]
    },
    {
      "cell_type": "code",
      "execution_count": 26,
      "metadata": {},
      "outputs": [
        {
          "name": "stdout",
          "output_type": "stream",
          "text": [
            "Deteksi bahasa selesai dan data berhasil disimpan.\n"
          ]
        }
      ],
      "source": [
        "# Save the dataset with detected languages\n",
        "dataset.to_csv('coursera_dataset_with_language_detection.csv', index=False)\n",
        "print(\"Deteksi bahasa selesai dan data berhasil disimpan.\")"
      ]
    },
    {
      "cell_type": "markdown",
      "metadata": {
        "id": "eGr-XXHlrtN5"
      },
      "source": [
        "#### **3. Preprocessing Text with Word2Vec**"
      ]
    },
    {
      "cell_type": "markdown",
      "metadata": {},
      "source": [
        "##### **i. Initializing Stemmer and Loading Dataset with Language Detection**"
      ]
    },
    {
      "cell_type": "markdown",
      "metadata": {},
      "source": [
        "Stemmer digunakan untuk mengubah kata ke bentuk dasarnya (stem). Ini membantu dalam mengurangi variasi kata dan memudahkan analisis teks. Dengan menggunakan stemmer, kita dapat menyederhanakan teks dengan mengurangi kata-kata ke bentuk dasarnya, sehingga analisis teks menjadi lebih efisien dan efektif.\n",
        "\n",
        "Stemming adalah langkah penting dalam pra-pemrosesan teks. Ini membantu dalam menyederhanakan teks dan mengurangi dimensi fitur dengan mengurangi variasi kata yang sebenarnya memiliki makna yang sama."
      ]
    },
    {
      "cell_type": "code",
      "execution_count": 28,
      "metadata": {},
      "outputs": [],
      "source": [
        "# Initializing stemmer\n",
        "stemmer = PorterStemmer()\n",
        "\n",
        "# Load the dataset with detected languages\n",
        "file_path = 'coursera_dataset_with_language_detection.csv'\n",
        "dataset = pd.read_csv(file_path)"
      ]
    },
    {
      "cell_type": "markdown",
      "metadata": {},
      "source": [
        "##### **ii. Functions for Text Preprocessing**"
      ]
    },
    {
      "cell_type": "markdown",
      "metadata": {},
      "source": [
        "Fungsi `preprocess_text` digunakan untuk melakukan pra-pemrosesan teks, termasuk pengubahan teks menjadi huruf kecil, penghapusan tanda baca dan angka, tokenisasi, penghapusan stopwords, dan stemming. Fungsi ini hanya memproses teks yang berbahasa Inggris."
      ]
    },
    {
      "cell_type": "code",
      "execution_count": 29,
      "metadata": {
        "colab": {
          "base_uri": "https://localhost:8080/"
        },
        "id": "-l2_8BDtrnku",
        "outputId": "f755fd9d-42c3-4a4c-97ea-14242cd5fe5e"
      },
      "outputs": [],
      "source": [
        "# Function for language detection (already integrated)\n",
        "def detect_language(word):\n",
        "    try:\n",
        "        return detect(word)\n",
        "    except LangDetectException:\n",
        "        return \"unknown\"\n",
        "\n",
        "# Preprocessing function with stemming and language detection\n",
        "def preprocess_text(text, lang_detected):\n",
        "   \n",
        "    # Hanya teks bahasa Inggris yang diproses lebih lanjut\n",
        "    if lang_detected != 'en':\n",
        "        return []\n",
        "    \n",
        "    # Lowercasing\n",
        "    text = text.lower()\n",
        "    # Remove punctuation and numbers\n",
        "    text = re.sub(r'[\\W_0-9]+', ' ', text)\n",
        "    # Tokenization = Memecah teks menjadi kata-kata individu \n",
        "    words = word_tokenize(text)\n",
        "    # Remove stopwords and apply stemming\n",
        "    words = [stemmer.stem(word) for word in words if word not in stopwords.words('english')]\n",
        "    return words\n"
      ]
    },
    {
      "cell_type": "markdown",
      "metadata": {},
      "source": [
        "##### **iii. Applying Preprocessing and Training the Word2Vec Model**"
      ]
    },
    {
      "cell_type": "code",
      "execution_count": 30,
      "metadata": {},
      "outputs": [],
      "source": [
        "# Filter only English courses\n",
        "dataset = dataset[\n",
        "                (dataset['title_language_detected'] == 'en') & \n",
        "                (dataset['description_language_detected'] == 'en') & \n",
        "                (dataset['modules_language_detected'] == 'en')]\n"
      ]
    },
    {
      "cell_type": "markdown",
      "metadata": {},
      "source": [
        "- `vector_size`: Menentukan ukuran atau dimensi dari vektor kata yang dihasilkan. Dalam hal ini, setiap kata akan direpresentasikan oleh vektor dengan 100 elemen. Ukuran vektor yang lebih besar dapat menangkap lebih banyak detail semantik dari kata-kata, tetapi juga membutuhkan lebih banyak memori dan waktu komputasi.\n",
        "\n",
        "- `window`: Menentukan ukuran jendela konteks, yaitu jumlah kata di sebelah kiri dan kanan kata target yang akan dipertimbangkan saat pelatihan model. Dengan window=5, model akan mempertimbangkan 5 kata di sebelah kiri dan 5 kata di sebelah kanan kata target untuk mempelajari hubungan konteks.\n",
        "\n",
        "- `min_count`: Menentukan frekuensi minimum dari kata-kata yang akan disertakan dalam pelatihan model. Kata-kata yang muncul kurang dari 5 kali dalam korpus akan diabaikan. Ini membantu dalam mengurangi kebisingan dari kata-kata yang jarang muncul dan biasanya tidak informatif."
      ]
    },
    {
      "cell_type": "code",
      "execution_count": 31,
      "metadata": {},
      "outputs": [],
      "source": [
        "# Apply preprocessing for relevant columns\n",
        "columns_to_preprocess = ['title', 'description', 'modules', 'instructor']\n",
        "dataset['combined_clean'] = dataset.apply(lambda row: \n",
        "                                          preprocess_text(row['title'], row['title_language_detected']) + \n",
        "                                          preprocess_text(row['description'], row['description_language_detected']) + \n",
        "                                          preprocess_text(row['modules'], row['modules_language_detected']) + \n",
        "                                          preprocess_text(row['instructor'], row['instructor_language_detected']), axis=1)\n",
        "\n",
        "\n",
        "# Train Word2Vec Model\n",
        "model = Word2Vec(\n",
        "    sentences=dataset['combined_clean'],   # Data input berupa daftar kata-kata yang telah dipreproses\n",
        "    vector_size=100,                       # Ukuran vektor kata adalah 100 dimensi\n",
        "    window=5,                              # Ukuran jendela konteks adalah 5 kata di kiri dan 5 kata di kanan kata target                            \n",
        "    min_count=3,                           # Kata yang muncul kurang dari 3 kali akan diabaikan\n",
        "    workers=4                              # Menggunakan 4 thread paralel untuk pelatihan model\n",
        ")\n"
      ]
    },
    {
      "cell_type": "markdown",
      "metadata": {},
      "source": [
        "Model Word2Vec dilatih menggunakan kalimat yang telah dipreproses dalam kolom `combined_clean`."
      ]
    },
    {
      "cell_type": "markdown",
      "metadata": {},
      "source": [
        "##### **iv. Creating Document Vectors and Calculating Similarities**"
      ]
    },
    {
      "cell_type": "code",
      "execution_count": 32,
      "metadata": {},
      "outputs": [],
      "source": [
        "# Function to get the average Word2Vec vector for a text\n",
        "def get_avg_word2vec(text, model):\n",
        "    vectors = [model.wv[word] for word in text if word in model.wv]\n",
        "    if len(vectors) == 0:\n",
        "        return np.zeros(model.vector_size)\n",
        "    return np.mean(vectors, axis=0)\n",
        "\n",
        "# Create document vectors\n",
        "dataset['doc_vector'] = dataset['combined_clean'].apply(lambda x: get_avg_word2vec(x, model))\n"
      ]
    },
    {
      "cell_type": "markdown",
      "metadata": {},
      "source": [
        "### **D. Recommendations System Based on User Input**"
      ]
    },
    {
      "cell_type": "markdown",
      "metadata": {},
      "source": [
        "Define a function to get recommendations based on user input."
      ]
    },
    {
      "cell_type": "code",
      "execution_count": 34,
      "metadata": {},
      "outputs": [
        {
          "name": "stdout",
          "output_type": "stream",
          "text": [
            "keyword :  communication\n",
            "Input: communication\n",
            "\n",
            "From your input we can recommend:\n",
            "\n",
            "Title: Improve Your English Communication Skills Specialization\n",
            "Description: This Specialization helps you improve your professional communication in English for successful business interactions. Each course focuses on a particular area of communication in English:  writing emails, speaking at meetings and interviews, giving presentations, and networking online. Whether you want to communicate to potential employers, employees, partners or clients, better English communication can help you achieve your language and professional goals. The Capstone course will focus especially on making those important connections to take your career or business to the next level. Make yourself more competitive by improving your English through this Specialization: Improve Your English Communication Skills.\n",
            "Syllabus: No specify data\n",
            "Modules: Write Professional Emails in English ; Speak English Professionally: In Person, Online & On the Phone ; Build Your Professional ePortfolio in English ; Take Your English Communication Skills to the Next Level\n",
            "Instructor: Gerry Landers\n",
            "Cosine Similarity: 0.9992\n",
            "\n",
            "Title: Improve Your English Communication Skills Specialization\n",
            "Description: This Specialization helps you improve your professional communication in English for successful business interactions. Each course focuses on a particular area of communication in English:  writing emails, speaking at meetings and interviews, giving presentations, and networking online. Whether you want to communicate to potential employers, employees, partners or clients, better English communication can help you achieve your language and professional goals. The Capstone course will focus especially on making those important connections to take your career or business to the next level. Make yourself more competitive by improving your English through this Specialization: Improve Your English Communication Skills.\n",
            "Syllabus: No specify data\n",
            "Modules: Write Professional Emails in English ; Speak English Professionally: In Person, Online & On the Phone ; Build Your Professional ePortfolio in English ; Take Your English Communication Skills to the Next Level\n",
            "Instructor: Gerry Landers\n",
            "Cosine Similarity: 0.9992\n",
            "\n",
            "Title: Storytelling and influencing: Communicate with impact\n",
            "Description: An ambitious vision for the future of your organisation isn’t enough – how do you communicate this vision to get your colleagues on board? The ability to effectively communicate and persuade others is a key leadership skill. Traditional and common-sense models of communication and persuasion often fail to capture the complex nature of ‘influencing’. Via structured learning activities (video lectures, quizzes, discussion prompts and written assessments) this course will develop your capacity to communicate appropriately in different situational and cultural contexts, making you a highly influential leader.\n",
            "Syllabus: The necessary art of persuasion: Understanding what matters to your audience  At the heart of persuasive communications is a solid understanding of your audience and what they find appealing. This week you will learn the basic theory of persuasive communication, including models of information processing, motivational appeals, message acceptance, fast and slow decision making and rules of effective human interactions.  Telling your story: Developing a dramatic narrative  Effective storytelling starts with developing persuasive content, and then structuring a dramatic narrative that will spark the imagination. In week 2, you will learn how to apply storytelling principles like shaping the beginning, building the middle, and making the ending powerful. You will learn how to find the winning idea for your story, colour it with emotions, and use metaphors to quickly connect concepts in people’s minds.  SHOW ALL SYLLABUS  SHOW ALL  Connecting with people: Developing authenticity and building rapport  Developing rapport and trust is a crucial aspect of persuasion, in fact, it crucial for any form of supportive human interactions. Often times, this means being able to read a situation and adapt the approach accordingly. In week 3, you will learn how to speak authentically, and how to quickly build and maintain rapport.  The means by which this can be accomplished include the use of verbal and non-verbal cues and the techniques of matching and mirroring the body language and vocal qualities of the other person.  SHOW ALL SYLLABUS  SHOW ALL  Talk the talk: Creating impressions and guiding influential conversations  Group meetings can create lasting impressions, which is why it important that they are well run. But, more often than not, such meetings are unproductive. Stress and tension in meetings are also common. In week 4, you will learn how to lead influential group conversation by planning an effective meeting, be aware of the do’s and don’ts in meeting, avoid groupthink, and how to make better decisions. You will also learn the power of impression management.  SHOW ALL SYLLABUS  SHOW ALL  Painful truth: Dealing with objections and overcoming resistance  Not all conversations are positive. Some are painful but necessary, like handling objections and overcoming resistance. In week 5, you will learn how to prepare for stressful conversations and deal with objections.You will understand the nature of the objections, why people make them, and then how to reduce their resistance, and defend your proposals against these objections.  Winning over hearts and minds: How to pitch a brilliant idea  \n",
            "Modules: The necessary art of persuasion: Understanding what matters to your audience ; Telling your story: Developing a dramatic narrative ; Connecting with people: Developing authenticity and building rapport ; Talk the talk: Creating impressions and guiding influential conversations ; Painful truth: Dealing with objections and overcoming resistance ; Winning over hearts and minds: How to pitch a brilliant idea\n",
            "Instructor: Associate Professor Lawrence Ang ; Arabella MacPherson\n",
            "Cosine Similarity: 0.9992\n",
            "\n",
            "Title: Fundamentals of Network Communication\n",
            "Description: In this course, we trace the evolution of networks and identify the key concepts and functions that form the basis for layered architecture. We introduce examples of protocols and services that are familiar to the students, and we explain how these services are supported by networks. Further, we explain fundamental concepts in digital communication, and focus on error control techniques that include parity check, polynomial code, and Internet checksum. Students will be required to have some previous programming experience in C-programming (C++/Java), some fundamental knowledge of computer organization and IT architecture and a background in computer science is a plus.\n",
            "Syllabus: Communication Networks and Services  This module discusses the evolution of three example networks and their associated services, how services are influencing the evolution of modern networks, and examples of protocols and services.  Layered Architectures  This module discusses the OSI reference model and show how the overall communication process can be organized into functions that are carried out in seven layers, and introduces the TCP/IP architecture with a detailed routing example.  Socket API & Digital Transmissions  This module introduces BSD sockets, which allow the student to write applications that use the service provided by the TCP/IP protocols. It also introduces some fundamentals of digital communications.  Error Control  This module presents coding techniques that can be used to detect errors that may occur during digital transmission. These coding techniques form the basis for protocols that provide reliable transfer of information.  course project - fundamentals of network communication  This is a comprehensive peer review assessment\n",
            "Modules: Communication Networks and Services ; Layered Architectures  ; Socket API & Digital Transmissions ; Error Control ; course project - fundamentals of network communication\n",
            "Instructor: Xiaobo Zhou ; University of Colorado System\n",
            "Cosine Similarity: 0.9991\n",
            "\n",
            "Title: Communication Strategies for a Virtual Age\n",
            "Description: Communication has changed! The traditional rules for speaking and presenting, meeting coordination, influencing people, negotiating and selling ideas no longer apply in a world of skype, messenger, video and teleconference.  This course will act as an overview on several concepts each of which could be a course of their own and our goal is to give you tools that you can practice and perfect on your own.\n",
            "Syllabus: Introduction to Virtual Teams and Virtual Communication  This module is intended to create a foundation for the course by challenging your ideas of not just what virtual communication means, but also communication as  a whole.  This module will also introduce the foundational ideas of the whole course.  Virtual Meetings: Boring to Awesome  In this module we cover meetings both in person and virtually.  We will discuss how to make meetings dramatically more efficient and effective. We will also introduce strategies to make the meetings more interactive and to keep an audiences attention especially when they are looking at a screen.  Influence, Power and Questioning Strategies in Virtual Collaboration  In this module we move from presenting to convincing and persuading.  These ideas can be applied to to presentations and also one-on-one communication both in-person and virtually.  We will cover how recognize peoples communication styles and motivations and how strategically communicate in a way that will resonate with them.  Speaking and Presenting in a virtual context  This module focuses on presenting and public speaking.  Each lesson will cover a communication strategy for in-person presenting and then show you how to use that same strategy in a virtual presentation.\n",
            "Modules: Introduction to Virtual Teams and Virtual Communication ; Virtual Meetings: Boring to Awesome ; Influence, Power and Questioning Strategies in Virtual Collaboration ; Speaking and Presenting in a virtual context\n",
            "Instructor: Ivan Wanis Ruiz\n",
            "Cosine Similarity: 0.9991\n",
            "\n",
            "Title: Spacecraft Dynamics Capstone: Mars Mission\n",
            "Description: The goal of this capstone spacecraft dynamics project is to employ the skills developed in the rigid body Kinematics, Kinetics and Control courses.  An exciting two-spacecraft mission to Mars is considered where a primary mother craft is in communication with a daughter vehicle in another orbit.  The challenges include determining the kinematics of the orbit frame and several desired reference frames, numerically simulating the attitude dynamics of the spacecraft in orbit, and implementing a feedback control that then drives different spacecraft body frames to a range of mission modes including sun pointing for power generation, nadir pointing for science gathering, mother spacecraft pointing for communication and data transfer.  Finally, an integrated mission simulation is developed that implements these attitude modes and explores the resulting autonomous closed-loop performance.\n",
            "Syllabus: Introduction to the Mission  The goal of this capstone spacecraft dynamics project is to employ the skills developed in the rigid body kinematics, kinetics and control courses.  An exciting two-spacecraft mission to Mars is considered where a primary mother craft is in communication with a daughter vehicle in another orbit.  The challenges include determining the kinematics of the orbit frame and several desired reference frames, numerically simulating the attitude dynamics of the spacecraft in orbit, and implementing a feedback control that then drives different spacecraft body frames to a range of mission modes including sun pointing for power generation, nadir pointing for science gathering, mother spacecraft pointing for communication and data transfer.  Finally, an integrated mission simulation is developed that implements these attitude modes and explores the resulting autonomous closed-loop performance.  SHOW ALL SYLLABUS  SHOW ALL  Orbits  Tasks 1 and 2 use three-dimensional kinematics to create the mission related orbit simulation and the associated orbit frames.  The introductory step ensures the satellite is undergoing the correct motion, and that the orbit frame orientation relative to the planet is being properly evaluated.  Reference Frame Orientation  Tasks 3 through 5 create the required attitude reference frame for the three attitude pointing modes called sun-pointing, nadir-pointing and GMO-pointing.  The reference attitude frame is a critical component to ensure the feedback control drives the satellite to the desired orientation.  The control employed remains the same for all three pointing modes, but the performance is different because different attitude reference frames are employed.  SHOW ALL SYLLABUS  SHOW ALL  Attitude Evaluation and Simulator  Tasks 6 through 7 create simulation routines to first evaluate the attitude tracking error between a body-fixed frame and a particular reference frame of the current attitude mode.  Next the inertial attitude dynamics is evaluated through a numerical simulation to be able to numerically analyze the control performance.  Complete the Mission  Tasks 8-11 simulate the closed-loop attitude performance for the three attitude modes.  Tasks 8 through 10 first simulate a single attitude at a time, while tasks 11 develops a comprehensive attitude mission simulation which considers the attitude modes switching autonomously as a function of the spacecraft location relative to the planet. Please note that the time it will take you to complete this module and the requisite tasks has increased from prior modules.\n",
            "Modules: Introduction to the Mission ; Orbits ; Reference Frame Orientation ; Attitude Evaluation and Simulator ; Complete the Mission\n",
            "Instructor: Hanspeter Schaub\n",
            "Cosine Similarity: 0.9989\n",
            "\n",
            "Title: Career Success Specialization\n",
            "Description: This series of courses will help you build, develop and hone the essential skills needed to improve your employability and advancement in today’s dynamic workforce.  The courses in this Specialization may be taken in any order. Each course can also be taken independently. The Specialization concludes with a Capstone project that will give you the opportunity to integrate and apply the skills you have gained throughout the courses to your individual and organizational needs.\n",
            "Syllabus: No specify data\n",
            "Modules: Project Management: The Basics for Success ; Work Smarter, Not Harder: Time Management for Personal & Professional Productivity ; Finance for Non-Financial Professionals ; Communication in the 21st Century Workplace ; High-Impact Business Writing ; The Art of Negotiation ; Fundamentals of Management ; Effective Problem-Solving and Decision-Making ; Essentials of Entrepreneurship: Thinking & Action ; Career Success Project\n",
            "Instructor: David Standen, MBA ; Rob Stone, PMP, M.Ed. ;   Dave Nagy\n",
            "Cosine Similarity: 0.9989\n",
            "\n",
            "Title: Customer Service Fundamentals\n",
            "Description: There are a growing number of exciting, well-paying jobs in today’s tech industry that do not require a traditional college degree, an one of the hottest areas with high demand is in IT customer service and support. Customer Service is a perfect entry point to start your career in IT, with a multitude of job openings ranging from onsite or remote help desk work to customer care or client support. We can help you get there with the Customer Service Fundamentals course.\n",
            "Syllabus: Communication Skills  Learners will be introduced to the work environment by exploring the importance of building rapport and maintaining a positive tone while communicating with customers. Learners will understand the value and demonstrate the ability to use clear and concise communication skills. Learners will also explore insider secrets to success, such as the art of saying \"No\" and how to use collaboration with colleagues to improve the overall work experience. Throughout the module, learners will practice and apply newly acquired knowledge.  SHOW ALL SYLLABUS  SHOW ALL  Personality  Learners will explore the personality traits that are recognized as leading indicators of success in the field of customer support. Learners will identify basic characteristics for each personality trait and evaluate their own strengths and weaknesses. They will reflect on recommended strategies to develop traits within themselves, and practice and apply newly acquired knowledge by reacting to and resolving authentic call center problems.  SHOW ALL SYLLABUS  SHOW ALL  Problem Solving  Learners will discover best practices related to finding and evaluating resources used to assist in the process to solve problems and provide customers with resolutions. Learners will explore various methods of organizing resources so that they can be efficiently retrieved when needed. By making connections to the Scientific Method, learners will explore a methodical problem-solving process and apply it to real-world situations.  SHOW ALL SYLLABUS  SHOW ALL  Process Control  Learners will build on what they have learned about communication, personality, and problem-solving from previous modules and begin to apply this in the workplace. Learners will be introduced to the concept of Service Level Agreements and explore how they impact the service industry. Through exploration of standards, learners will begin to understand the value of ticketing systems in monitoring documentation used to support customers. Finally, learners will examine their own technical skills, practice refining their typing and diction skills, learn technical terminology, and explore the KCS methodology.  SHOW ALL SYLLABUS  SHOW ALL\n",
            "Modules: Communication Skills ; Personality ; Problem Solving ; Process Control\n",
            "Instructor: Keith Gibson\n",
            "Cosine Similarity: 0.9988\n",
            "\n",
            "Title: Excel to MySQL: Analytic Techniques for Business Specialization\n",
            "Description: Formulate data questions, explore and visualize large datasets, and inform strategic decisions.\n",
            "Syllabus: No specify data\n",
            "Modules: Business Metrics for Data-Driven Companies ; Mastering Data Analysis in Excel ; Data Visualization and Communication with Tableau ; Managing Big Data with MySQL ; Increasing Real Estate Management Profits: Harnessing Data Analytics ; Industry partners\n",
            "Instructor: Jana Schaich Borg ; Daniel Egger\n",
            "Cosine Similarity: 0.9987\n",
            "\n",
            "Title: Being a researcher (in Information Science and Technology)\n",
            "Description: The course provides a broad view of how to become and progress as a researcher. It spans over a wide range of topics, from the historical development of scientific thought to research methodology, to the pragmatics of publication, research funding, evaluation, and promotion in a researcher’s career. It also stresses the ethical aspects of research. Although the course speaks about scientific research in general, it especially focuses on the field on Information and Communication Science and Technology.\n",
            "Syllabus: WEEK 1 - Research and its context  Week 1 has an introductory and motivational purpose. It faces the following questions: What is science? What is scientific research? What is the relation between scientific progress and the progress of society? What is the relation between research and innovation? Why should researchers engage themselves publicly?  WEEK 2 - Research Methodology  Week 2 focuses on research methods. It discusses the interplay between invention — the creative act that identifies an interesting open problem and a possible solution — and validation — the meticulous process through which the identified solution is critically evaluated. It briefly discusses the historical evolution of the notion of a “scientific method”, through which research results are validated, mainly developed in the context of physical and natural sciences. Then it broadens the analysis to other kinds of research, and in particular ICST research.  SHOW ALL SYLLABUS  SHOW ALL  WEEK 3 - The products of research: publications and beyond  The results of research (its products) are used to develop further research and lead to industrial innovations and societal changes. Week 3 focuses on the diffusion process of research products. The main way of diffusing research results is through scientific publications. The traditional publication process is analysed and recent trends towards open access are also discussed. Other kinds of research products, which take the form of artifacts, like data sets or research prototypes, are also discussed.  SHOW ALL SYLLABUS  SHOW ALL  WEEK 4 - The researcher's progress  Week 4 focuses on the researcher’s career progress in his/her professional life, from being a researcher-in-formation to becoming a junior independent researcher to maturing into an established research leader. In particular, it discusses the skills one needs to acquire and provides tips of advice on how to progress successfully.  WEEK 5 - Evaluating research  Week 5 focuses on evaluation in research. Evaluation is key to research, as for any intrinsically competitive human endeavor. Researchers are evaluated for hiring, funding, and promotion. Research units (groups, departments) are also evaluated for funding. Even global institutions (like universities) are evaluated and ranked internationally. Traditionally, evaluation is performed via peer review. Increasingly, other forms of evaluation based on quantitative indicators — such as bibliometric indicators — have been emerging and are increasingly used. Quantitative indicators are discussed and critically analyzed.  WEEK 6 - Research ethics  Week 6 focuses on the ethical issues involved in doing research. It defines the notions of ethics and misconduct. It discusses misconduct in proposing, performing, reviewing research or reporting research, focusing in particular on plagiarism, breach of confidentiality, conflict of interest. Possible ethical aspects involved in the specific research are also discussed. Research can involve or affects humans, other organisms, or the environment. This is traditionally well understood, e.g. in life sciences. Increasingly research in all areas of technology is getting closer to humans and touches ethical sensitive issues.\n",
            "Modules: WEEK 1 - Research and its context ; WEEK 2 - Research Methodology ; WEEK 3 - The products of research: publications and beyond ; WEEK 4 - The researcher's progress ; WEEK 5 - Evaluating research ; WEEK 6 - Research ethics\n",
            "Instructor: Carlo Ghezzi\n",
            "Cosine Similarity: 0.9986\n",
            "\n"
          ]
        }
      ],
      "source": [
        "\n",
        "# Function to getrecommendations based on user input with threshold.\n",
        "def get_user_recommendations(user_input, threshold=0.3):\n",
        "    # Preprocess the user input\n",
        "    user_input_clean = preprocess_text(user_input, 'en')  # Input pengguna dalam bahasa Inggris\n",
        "    user_vector = get_avg_word2vec(user_input_clean, model)\n",
        "\n",
        "    # Calculate similarity with all courses\n",
        "    similarities = cosine_similarity([user_vector], np.vstack(dataset['doc_vector']))\n",
        "    \n",
        "    # Get the indices of courses with similarity above the minimum threshold\n",
        "    top_indices = [i for i in range(len(similarities[0])) if similarities[0][i] > threshold]\n",
        "\n",
        "    # Filter results by ensuring they contain relevant keywords\n",
        "    keyword = user_input.lower()\n",
        "    print('keyword : ', keyword)\n",
        "    filtered_indices = [i for i in top_indices if keyword in dataset.iloc[i]['description'].lower() or keyword in dataset.iloc[i]['title'].lower() or keyword in dataset.iloc[i]['modules'].lower() or keyword in dataset.iloc[i]['instructor'].lower()]\n",
        "\n",
        "    # Sort the indices based on similarity scores\n",
        "    filtered_indices = sorted(filtered_indices, key=lambda i: similarities[0][i], reverse=True)[:10]\n",
        "    \n",
        "\n",
        "    # Display recommendations\n",
        "    if filtered_indices:\n",
        "        print(f\"Input: {user_input}\\n\")\n",
        "        print(\"From your input we can recommend:\\n\")\n",
        "        for idx in filtered_indices:\n",
        "            print(f\"Title: {dataset.iloc[idx]['title']}\")\n",
        "            print(f\"Description: {dataset.iloc[idx]['description']}\")\n",
        "            print(f\"Syllabus: {dataset.iloc[idx]['syllabus']}\")\n",
        "            print(f\"Modules: {dataset.iloc[idx]['modules']}\")\n",
        "            print(f\"Instructor: {dataset.iloc[idx]['instructor']}\")\n",
        "            print(f\"Cosine Similarity: {similarities[0][idx]:.4f}\")\n",
        "            print()\n",
        "    else:\n",
        "        print(f\"Input: {user_input}\\n\")\n",
        "        print(\"Sorry, we couldn't find any courses matching your description.\")\n",
        "    return(top_indices)\n",
        "\n",
        "\n",
        "# Ambil input dari user\n",
        "user_input = input(\"Describe the courses you are looking for: \")\n",
        "if user_input.strip():\n",
        "    get_user_recommendations(user_input)\n",
        "else:\n",
        "    print(\"Please provide the description.\")\n",
        "\n"
      ]
    },
    {
      "cell_type": "markdown",
      "metadata": {},
      "source": [
        "### **E. Saving Model**"
      ]
    },
    {
      "cell_type": "markdown",
      "metadata": {},
      "source": [
        "Model yang telah di proses, kemudian disimpan dengan nama `word2vec_model.model`"
      ]
    },
    {
      "cell_type": "code",
      "execution_count": 35,
      "metadata": {},
      "outputs": [
        {
          "name": "stdout",
          "output_type": "stream",
          "text": [
            "Model Word2Vec berhasil disimpan dengan .model.\n"
          ]
        }
      ],
      "source": [
        "# Save the Word2Vec model using gensim's save method\n",
        "model.save(\"word2vec_model.model\")\n",
        "print(\"Model Word2Vec berhasil disimpan dengan .model.\")"
      ]
    },
    {
      "cell_type": "markdown",
      "metadata": {},
      "source": [
        "### **F. Conclusion**"
      ]
    }
  ],
  "metadata": {
    "colab": {
      "provenance": []
    },
    "kernelspec": {
      "display_name": "Python 3",
      "name": "python3"
    },
    "language_info": {
      "codemirror_mode": {
        "name": "ipython",
        "version": 3
      },
      "file_extension": ".py",
      "mimetype": "text/x-python",
      "name": "python",
      "nbconvert_exporter": "python",
      "pygments_lexer": "ipython3",
      "version": "3.9.19"
    }
  },
  "nbformat": 4,
  "nbformat_minor": 0
}
