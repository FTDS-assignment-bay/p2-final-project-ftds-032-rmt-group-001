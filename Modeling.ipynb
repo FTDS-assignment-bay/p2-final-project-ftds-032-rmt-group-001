{
  "cells": [
    {
      "cell_type": "markdown",
      "metadata": {
        "id": "6tM12k-6YYRc"
      },
      "source": [
        "# **Final Project**\n",
        "\n",
        "### **Group 1**"
      ]
    },
    {
      "cell_type": "markdown",
      "metadata": {
        "id": "3VUF1oR0YkP3"
      },
      "source": [
        "### **A. Introduction**\n",
        "\n",
        "Team Members:\n",
        "- Maurits Tobing\n",
        "- Iznia Azyati\n",
        "- Talitha Salsabila\n",
        "\n",
        "\n",
        "**Dataset**: [Coursera Courses Dataset](https://www.kaggle.com/datasets/muhammadanasmahmood/coursera-courses-dataset)\n",
        "\n",
        "**Hugging Face**:\n"
      ]
    },
    {
      "cell_type": "markdown",
      "metadata": {
        "id": "zajuukbNZjRT"
      },
      "source": [
        "---\n",
        "\n",
        "\n",
        "**Problem Statement**\n",
        "\n",
        "New students hard to find the suitable course based on their preference and knowledge level\n",
        "\n",
        "\n",
        "**Objectives**:\n",
        "\n",
        "Developing system recommendation to provide the suitable course based on student’s preference\n",
        "\n",
        "**Dataset Overview**\n",
        "\n",
        "Dataset yang digunakan merupakan ...\n",
        "\n",
        "\n",
        "---"
      ]
    },
    {
      "cell_type": "markdown",
      "metadata": {
        "id": "fnLPfleudD4m"
      },
      "source": [
        "#### **Kolom yang Perlu Di-NLP-kan**\n",
        "\n",
        "**1. Title (title)**\n",
        "  - Penjelasan: Nama kursus memberikan gambaran singkat tentang topik utama kursus tersebut.\n",
        "  - NLP Task: Ekstraksi fitur, analisis kata kunci, dan pembobotan berdasarkan kemiripan kata.\n",
        "\n",
        "**2. Description (description)**\n",
        "  - Penjelasan: Deskripsi kursus memberikan detail tentang apa yang akan dipelajari oleh peserta kursus.\n",
        "  - NLP Task: Analisis sentimen, pengelompokan tematik, dan pembobotan kata untuk mengukur relevansi.\n",
        "\n",
        "**3. Syllabus (syllabus)**\n",
        "  - Penjelasan: Silabus memberikan rincian topik-topik spesifik yang dibahas dalam kursus.\n",
        "  - NLP Task: Ekstraksi topik, analisis frekuensi kata, dan pengelompokan berdasarkan topik.\n",
        "\n",
        "**4. Modules (modules)**\n",
        "  - Penjelasan: Modul menunjukkan sub-kategori atau bagian dari kursus yang lebih rinci.\n",
        "  - NLP Task: Pemetaan modul untuk memahami sub-topik utama dan hubungannya dengan preferensi siswa.\n",
        "\n",
        "**5. Instructor (instructor)**\n",
        "  - Penjelasan: Nama dan informasi tentang instruktur dapat memberikan insight tentang keahlian dan pengalaman mereka.\n",
        "  - NLP Task: Analisis profil instruktur untuk menentukan relevansi dan kredibilitas mereka dalam mengajar kursus tersebut."
      ]
    },
    {
      "cell_type": "markdown",
      "metadata": {
        "id": "VZnnVwTidasj"
      },
      "source": [
        "#### **Langkah-langkah Analisis dengan NLP**\n",
        "\n",
        "**1. Preprocessing Teks**\n",
        "  - Membersihkan teks dari tanda baca, angka, dan karakter khusus.\n",
        "  - Mengubah teks menjadi huruf kecil.\n",
        "  - Tokenisasi, yaitu memecah teks menjadi kata-kata individu.\n",
        "  - Menghapus kata-kata umum yang tidak memberikan informasi penting (stop words).\n",
        "\n",
        "**2. Ekstraksi Fitur**\n",
        "  - Menggunakan teknik seperti TF-IDF (Term Frequency-Inverse Document Frequency) untuk menentukan kepentingan kata dalam suatu dokumen.\n",
        "  - Membuat vektor kata untuk analisis lebih lanjut.\n",
        "\n",
        "<!-- **3. Pengelompokan dan Pemodelan Topik**\n",
        "  - Menggunakan teknik seperti LDA (Latent Dirichlet Allocation) untuk menemukan topik-topik utama dalam deskripsi kursus.\n",
        "  - Mengelompokkan kursus berdasarkan kesamaan topik. -->\n",
        "\n",
        "**4. Pembuatan Model Rekomendasi**\n",
        "  - Menggunakan cosine similarity untuk mengukur kemiripan antara preferensi siswa dan deskripsi kursus.- Menggunakan algoritma seperti Collaborative Filtering atau Content-Based Filtering untuk memberikan rekomendasi yang dipersonalisasi."
      ]
    },
    {
      "cell_type": "markdown",
      "metadata": {
        "id": "ZC4Fsxnjazzq"
      },
      "source": [
        "### **B. Data Loading & Data Checking**\n"
      ]
    },
    {
      "cell_type": "markdown",
      "metadata": {},
      "source": [
        "#### **1. Connect to Google Drive and Load Dataset**"
      ]
    },
    {
      "cell_type": "code",
      "execution_count": 1,
      "metadata": {
        "colab": {
          "base_uri": "https://localhost:8080/"
        },
        "id": "FxwVbQGYfQh6",
        "outputId": "9a63a0d8-8933-4a98-ccdd-3bca114b2b77"
      },
      "outputs": [
        {
          "name": "stdout",
          "output_type": "stream",
          "text": [
            "Mounted at /content/drive\n"
          ]
        }
      ],
      "source": [
        "from google.colab import drive\n",
        "\n",
        "# Connect to google drive\n",
        "drive.mount('/content/drive')"
      ]
    },
    {
      "cell_type": "code",
      "execution_count": 2,
      "metadata": {
        "id": "1iynmp9rfSoV"
      },
      "outputs": [],
      "source": [
        "# Define the path to the dataset\n",
        "dataset_path = 'coursera_dataset.csv'\n"
      ]
    },
    {
      "cell_type": "code",
      "execution_count": 5,
      "metadata": {
        "id": "MQEEqcyrgo8W"
      },
      "outputs": [],
      "source": [
        "import pandas as pd\n",
        "\n",
        "# Define the path to the dataset\n",
        "dataset_path = '/content/drive/My Drive/Final_Project/coursera_dataset.csv'\n"
      ]
    },
    {
      "cell_type": "code",
      "execution_count": 6,
      "metadata": {
        "colab": {
          "base_uri": "https://localhost:8080/",
          "height": 591
        },
        "id": "gXn75-q9WHpC",
        "outputId": "eeeb62b3-4684-4f07-d4ca-601ac5aa47c3"
      },
      "outputs": [
        {
          "data": {
            "application/vnd.google.colaboratory.intrinsic+json": {
              "summary": "{\n  \"name\": \"df\",\n  \"rows\": 208,\n  \"fields\": [\n    {\n      \"column\": \"Unnamed: 0\",\n      \"properties\": {\n        \"dtype\": \"number\",\n        \"std\": 60,\n        \"min\": 0,\n        \"max\": 207,\n        \"num_unique_values\": 208,\n        \"samples\": [\n          161,\n          15,\n          73\n        ],\n        \"semantic_type\": \"\",\n        \"description\": \"\"\n      }\n    },\n    {\n      \"column\": \"title\",\n      \"properties\": {\n        \"dtype\": \"string\",\n        \"num_unique_values\": 169,\n        \"samples\": [\n          \"Quantum Optics 1 : Single Photons\",\n          \"Los bits y bytes de las redes inform\\u00e1ticas\",\n          \"Communication Strategies for a Virtual Age\"\n        ],\n        \"semantic_type\": \"\",\n        \"description\": \"\"\n      }\n    },\n    {\n      \"column\": \"category\",\n      \"properties\": {\n        \"dtype\": \"category\",\n        \"num_unique_values\": 27,\n        \"samples\": [\n          \"Cloud Computing\",\n          \"Math and Logic\",\n          \"Security\"\n        ],\n        \"semantic_type\": \"\",\n        \"description\": \"\"\n      }\n    },\n    {\n      \"column\": \"type\",\n      \"properties\": {\n        \"dtype\": \"category\",\n        \"num_unique_values\": 4,\n        \"samples\": [\n          \"course\",\n          \"guided project\",\n          \"specializations\"\n        ],\n        \"semantic_type\": \"\",\n        \"description\": \"\"\n      }\n    },\n    {\n      \"column\": \"level\",\n      \"properties\": {\n        \"dtype\": \"category\",\n        \"num_unique_values\": 3,\n        \"samples\": [\n          \"Intermediate Level\",\n          \"Beginner Level\",\n          \"Advanced Level\"\n        ],\n        \"semantic_type\": \"\",\n        \"description\": \"\"\n      }\n    },\n    {\n      \"column\": \"description\",\n      \"properties\": {\n        \"dtype\": \"string\",\n        \"num_unique_values\": 162,\n        \"samples\": [\n          \"Data science is one of the hottest professions of the decade, and the demand for data scientists who can analyze data and communicate results to inform data driven decisions has never been greater. This Professional Certificate from IBM will help anyone interested in pursuing a\",\n          \"Despite everyone's good intentions, hard work and solid ideas, too many teams end up creating products that no one wants, no one can use, and no one buys. But it doesn't have to be this way. Agile and design thinking offer a different--and effective--approach to product development, one that results in valuable solutions to meaningful problems. In this course, you\\u2019ll learn how to determine what's valuable to a user early in the process--to frontload value--by focusing your team on testable narratives about the user and creating a strong shared perspective.\",\n          \"As data becomes the modern currency, so the ability to analyse the data quickly and accurately has become of paramount importance. Excel with its extraordinarily broad range of features and capabilities is one of the most widely used programs for doing this. In the first course of our Excel Skills for Data Analysis and Visualization Specialization, you will learn the fundamentals of Excel for data analysis. When you have completed the course, you will be able to use a range of Excel tools and functions to clean and prepare data for analysis; automate data analysis with the help of Named Ranges and Tables; and use logical and lookup functions to transform, link and categorise data.\"\n        ],\n        \"semantic_type\": \"\",\n        \"description\": \"\"\n      }\n    },\n    {\n      \"column\": \"price\",\n      \"properties\": {\n        \"dtype\": \"category\",\n        \"num_unique_values\": 2,\n        \"samples\": [\n          \"Enroll\",\n          \"free\"\n        ],\n        \"semantic_type\": \"\",\n        \"description\": \"\"\n      }\n    },\n    {\n      \"column\": \"rating\",\n      \"properties\": {\n        \"dtype\": \"number\",\n        \"std\": 0.20053289744580113,\n        \"min\": 4.0,\n        \"max\": 4.9,\n        \"num_unique_values\": 9,\n        \"samples\": [\n          4.4,\n          4.3\n        ],\n        \"semantic_type\": \"\",\n        \"description\": \"\"\n      }\n    },\n    {\n      \"column\": \"duration\",\n      \"properties\": {\n        \"dtype\": \"category\",\n        \"num_unique_values\": 50,\n        \"samples\": [\n          \"Approx. 11 hours to complete\",\n          \"Approximately 14 months to complete\"\n        ],\n        \"semantic_type\": \"\",\n        \"description\": \"\"\n      }\n    },\n    {\n      \"column\": \"language\",\n      \"properties\": {\n        \"dtype\": \"category\",\n        \"num_unique_values\": 6,\n        \"samples\": [\n          \"English\",\n          \"Spanish\"\n        ],\n        \"semantic_type\": \"\",\n        \"description\": \"\"\n      }\n    },\n    {\n      \"column\": \"prerequisites\",\n      \"properties\": {\n        \"dtype\": \"category\",\n        \"num_unique_values\": 1,\n        \"samples\": [\n          \"no prerequisites needed\"\n        ],\n        \"semantic_type\": \"\",\n        \"description\": \"\"\n      }\n    },\n    {\n      \"column\": \"syllabus\",\n      \"properties\": {\n        \"dtype\": \"string\",\n        \"num_unique_values\": 117,\n        \"samples\": [\n          \"N\\u00fameros naturales y sistemas de numeraci\\u00f3n ~.~ En este m\\u00f3dulo, abordamos los n\\u00fameros naturales: exploramos sus or\\u00edgenes y estudiamos c\\u00f3mo se representan y c\\u00f3mo se usan en diferentes situaciones. ~.~ Aritm\\u00e9tica de los n\\u00fameros naturales ~.~ En este m\\u00f3dulo, abordamos el significado de la operaciones aditivas y multiplicativas con n\\u00fameros naturales, es decir: los contextos y situaciones en las que se utilizan, las definiciones y formas de realizarlas y sus representaciones. ~.~ N\\u00fameros racionales ~.~ En este m\\u00f3dulo presentamos y relacionamos diferentes representaciones de los n\\u00fameros racionales. ~.~ Geometr\\u00eda elemental del plano ~.~ En este m\\u00f3dulo abordamos los elementos geom\\u00e9tricos, las caracter\\u00edsticas de las figuras geom\\u00e9tricas m\\u00e1s comunes y su clasificaci\\u00f3n. ~.~ Magnitudes y medidas. Medidas directas ~.~ En este m\\u00f3dulo conoceremos distintas magnitudes que se trabajan en la educaci\\u00f3n primaria. ~.~ Aplicaci\\u00f3n de los conceptos aprendidos ~.~ En esta actividad pondr\\u00e1s en juego las siguientes ideas clave que se han abordado en el curso: la medida como uso del n\\u00famero, las operaciones aditivas y multiplicativas de los n\\u00fameros naturales, las representaciones, los significados y operaciones con n\\u00fameros racionales, los cuadril\\u00e1teros, la longitud, la superficie y la capacidad, la estimaci\\u00f3n, y los factores de conversi\\u00f3n en las medidas indirectas.\"\n        ],\n        \"semantic_type\": \"\",\n        \"description\": \"\"\n      }\n    },\n    {\n      \"column\": \"modules\",\n      \"properties\": {\n        \"dtype\": \"string\",\n        \"num_unique_values\": 153,\n        \"samples\": [\n          \"Mathematics for Machine Learning: Linear Algebra,Mathematics for Machine Learning: Multivariate Calculus,Mathematics for Machine Learning: PCA,Instructors,Offered by,More questions\"\n        ],\n        \"semantic_type\": \"\",\n        \"description\": \"\"\n      }\n    },\n    {\n      \"column\": \"instructor\",\n      \"properties\": {\n        \"dtype\": \"string\",\n        \"num_unique_values\": 105,\n        \"samples\": [\n          \"James DaltonPalo Alto Networks9 Courses\\u202255,011 learners,Palo Alto NetworksLearn moreCloseOffered byPalo Alto NetworksThe Palo Alto Networks Cybersecurity Academy equips students with leading-edge cybersecurity knowledge and skills they will need to protect their digital way of life and prepare for the many unfilled jobs in cybersecurity.OK\"\n        ],\n        \"semantic_type\": \"\",\n        \"description\": \"\"\n      }\n    },\n    {\n      \"column\": \"certificate_type\",\n      \"properties\": {\n        \"dtype\": \"category\",\n        \"num_unique_values\": 2,\n        \"samples\": [\n          \"Non Shareable Certificate\"\n        ],\n        \"semantic_type\": \"\",\n        \"description\": \"\"\n      }\n    },\n    {\n      \"column\": \"association\",\n      \"properties\": {\n        \"dtype\": \"category\",\n        \"num_unique_values\": 54,\n        \"samples\": [\n          \"Knowledge Accelerators\"\n        ],\n        \"semantic_type\": \"\",\n        \"description\": \"\"\n      }\n    },\n    {\n      \"column\": \"image\",\n      \"properties\": {\n        \"dtype\": \"string\",\n        \"num_unique_values\": 169,\n        \"samples\": [\n          \"https://s3.amazonaws.com/coursera_assets/meta_images/generated/XDP/XDP~COURSE!~quantum-optics-single-photon/XDP~COURSE!~quantum-optics-single-photon.jpeg\"\n        ],\n        \"semantic_type\": \"\",\n        \"description\": \"\"\n      }\n    },\n    {\n      \"column\": \"url\",\n      \"properties\": {\n        \"dtype\": \"string\",\n        \"num_unique_values\": 169,\n        \"samples\": [\n          \"https://www.coursera.org/learn/quantum-optics-single-photon\"\n        ],\n        \"semantic_type\": \"\",\n        \"description\": \"\"\n      }\n    },\n    {\n      \"column\": \"timestamp\",\n      \"properties\": {\n        \"dtype\": \"object\",\n        \"num_unique_values\": 90,\n        \"samples\": [\n          \"2022-07-30 00:19:03\"\n        ],\n        \"semantic_type\": \"\",\n        \"description\": \"\"\n      }\n    }\n  ]\n}",
              "type": "dataframe",
              "variable_name": "df"
            },
            "text/html": [
              "\n",
              "  <div id=\"df-fafe0f66-6eb1-4e60-9f22-5bfb3b38f1b5\" class=\"colab-df-container\">\n",
              "    <div>\n",
              "<style scoped>\n",
              "    .dataframe tbody tr th:only-of-type {\n",
              "        vertical-align: middle;\n",
              "    }\n",
              "\n",
              "    .dataframe tbody tr th {\n",
              "        vertical-align: top;\n",
              "    }\n",
              "\n",
              "    .dataframe thead th {\n",
              "        text-align: right;\n",
              "    }\n",
              "</style>\n",
              "<table border=\"1\" class=\"dataframe\">\n",
              "  <thead>\n",
              "    <tr style=\"text-align: right;\">\n",
              "      <th></th>\n",
              "      <th>Unnamed: 0</th>\n",
              "      <th>title</th>\n",
              "      <th>category</th>\n",
              "      <th>type</th>\n",
              "      <th>level</th>\n",
              "      <th>description</th>\n",
              "      <th>price</th>\n",
              "      <th>rating</th>\n",
              "      <th>duration</th>\n",
              "      <th>language</th>\n",
              "      <th>prerequisites</th>\n",
              "      <th>syllabus</th>\n",
              "      <th>modules</th>\n",
              "      <th>instructor</th>\n",
              "      <th>certificate_type</th>\n",
              "      <th>association</th>\n",
              "      <th>image</th>\n",
              "      <th>url</th>\n",
              "      <th>timestamp</th>\n",
              "    </tr>\n",
              "  </thead>\n",
              "  <tbody>\n",
              "    <tr>\n",
              "      <th>0</th>\n",
              "      <td>0</td>\n",
              "      <td>Networking in Google Cloud Specialization</td>\n",
              "      <td>Networking</td>\n",
              "      <td>specializations</td>\n",
              "      <td>Intermediate Level</td>\n",
              "      <td>This specialization gives participants broad s...</td>\n",
              "      <td>free</td>\n",
              "      <td>4.8</td>\n",
              "      <td>Approximately 4 months to complete</td>\n",
              "      <td>English</td>\n",
              "      <td>no prerequisites needed</td>\n",
              "      <td>No specify data</td>\n",
              "      <td>Google Cloud Fundamentals: Core Infrastructure...</td>\n",
              "      <td>Google Cloud TrainingGoogle Cloud1,482 Courses...</td>\n",
              "      <td>Shareable Certificate</td>\n",
              "      <td>Google Cloud</td>\n",
              "      <td>https://s3.amazonaws.com/coursera_assets/meta_...</td>\n",
              "      <td>https://www.coursera.org/specializations/netwo...</td>\n",
              "      <td>2022-07-29 23:58:34</td>\n",
              "    </tr>\n",
              "    <tr>\n",
              "      <th>1</th>\n",
              "      <td>1</td>\n",
              "      <td>Two Speed IT: How Companies Can Surf the Digit...</td>\n",
              "      <td>Business Essentials</td>\n",
              "      <td>course</td>\n",
              "      <td>Beginner Level</td>\n",
              "      <td>Transform or disappear, the Darwinism of IT: I...</td>\n",
              "      <td>free</td>\n",
              "      <td>4.3</td>\n",
              "      <td>Approx. 14 hours to complete</td>\n",
              "      <td>English</td>\n",
              "      <td>no prerequisites needed</td>\n",
              "      <td>Introduction ~.~ Start here! ~.~ IT and the CI...</td>\n",
              "      <td>Introduction,IT and the CIO in the Digital Wor...</td>\n",
              "      <td>Antoine GourévitchCentraleSupélec1 Course•21,6...</td>\n",
              "      <td>Shareable Certificate</td>\n",
              "      <td>CentraleSupélec</td>\n",
              "      <td>https://s3.amazonaws.com/coursera_assets/meta_...</td>\n",
              "      <td>https://www.coursera.org/learn/2-speed-it</td>\n",
              "      <td>2022-07-29 23:58:34</td>\n",
              "    </tr>\n",
              "    <tr>\n",
              "      <th>2</th>\n",
              "      <td>2</td>\n",
              "      <td>Fundamentals of Network Communication</td>\n",
              "      <td>Computer Security and Networks</td>\n",
              "      <td>course</td>\n",
              "      <td>Intermediate Level</td>\n",
              "      <td>In this course, we trace the evolution of netw...</td>\n",
              "      <td>free</td>\n",
              "      <td>4.6</td>\n",
              "      <td>Approx. 15 hours to complete</td>\n",
              "      <td>English</td>\n",
              "      <td>no prerequisites needed</td>\n",
              "      <td>Communication Networks and Services ~.~ This m...</td>\n",
              "      <td>Communication Networks and Services,Layered Ar...</td>\n",
              "      <td>Xiaobo ZhouUniversity of Colorado System4 Cour...</td>\n",
              "      <td>Shareable Certificate</td>\n",
              "      <td>University of Colorado System</td>\n",
              "      <td>https://s3.amazonaws.com/coursera_assets/meta_...</td>\n",
              "      <td>https://www.coursera.org/learn/fundamentals-ne...</td>\n",
              "      <td>2022-07-29 23:58:54</td>\n",
              "    </tr>\n",
              "    <tr>\n",
              "      <th>3</th>\n",
              "      <td>3</td>\n",
              "      <td>Design a User Experience for Social Good &amp; Pre...</td>\n",
              "      <td>Design and Product</td>\n",
              "      <td>course</td>\n",
              "      <td>Beginner Level</td>\n",
              "      <td>Design a User Experience for Social Good and P...</td>\n",
              "      <td>free</td>\n",
              "      <td>4.8</td>\n",
              "      <td>Approx. 71 hours to complete</td>\n",
              "      <td>English</td>\n",
              "      <td>no prerequisites needed</td>\n",
              "      <td>Starting the UX design process: empathize, def...</td>\n",
              "      <td>Design for social good and strengthen your por...</td>\n",
              "      <td>Top InstructorGoogle Career CertificatesGoogle...</td>\n",
              "      <td>Shareable Certificate</td>\n",
              "      <td>Google</td>\n",
              "      <td>https://s3.amazonaws.com/coursera_assets/meta_...</td>\n",
              "      <td>https://www.coursera.org/learn/ux-design-jobs</td>\n",
              "      <td>2022-07-29 23:59:20</td>\n",
              "    </tr>\n",
              "    <tr>\n",
              "      <th>4</th>\n",
              "      <td>4</td>\n",
              "      <td>Building Database Applications in PHP</td>\n",
              "      <td>Mobile and Web Development</td>\n",
              "      <td>course</td>\n",
              "      <td>Intermediate Level</td>\n",
              "      <td>In this course, we'll look at the object orien...</td>\n",
              "      <td>free</td>\n",
              "      <td>4.9</td>\n",
              "      <td>Approx. 24 hours to complete</td>\n",
              "      <td>English</td>\n",
              "      <td>no prerequisites needed</td>\n",
              "      <td>PHP Objects ~.~ We look at the object oriented...</td>\n",
              "      <td>PHP Objects,Connecting PHP and MySQL,PHP Cooki...</td>\n",
              "      <td>Charles Russell SeveranceUniversity of Michiga...</td>\n",
              "      <td>Shareable Certificate</td>\n",
              "      <td>University of Michigan</td>\n",
              "      <td>https://s3.amazonaws.com/coursera_assets/meta_...</td>\n",
              "      <td>https://www.coursera.org/learn/database-applic...</td>\n",
              "      <td>2022-07-29 23:59:20</td>\n",
              "    </tr>\n",
              "  </tbody>\n",
              "</table>\n",
              "</div>\n",
              "    <div class=\"colab-df-buttons\">\n",
              "\n",
              "  <div class=\"colab-df-container\">\n",
              "    <button class=\"colab-df-convert\" onclick=\"convertToInteractive('df-fafe0f66-6eb1-4e60-9f22-5bfb3b38f1b5')\"\n",
              "            title=\"Convert this dataframe to an interactive table.\"\n",
              "            style=\"display:none;\">\n",
              "\n",
              "  <svg xmlns=\"http://www.w3.org/2000/svg\" height=\"24px\" viewBox=\"0 -960 960 960\">\n",
              "    <path d=\"M120-120v-720h720v720H120Zm60-500h600v-160H180v160Zm220 220h160v-160H400v160Zm0 220h160v-160H400v160ZM180-400h160v-160H180v160Zm440 0h160v-160H620v160ZM180-180h160v-160H180v160Zm440 0h160v-160H620v160Z\"/>\n",
              "  </svg>\n",
              "    </button>\n",
              "\n",
              "  <style>\n",
              "    .colab-df-container {\n",
              "      display:flex;\n",
              "      gap: 12px;\n",
              "    }\n",
              "\n",
              "    .colab-df-convert {\n",
              "      background-color: #E8F0FE;\n",
              "      border: none;\n",
              "      border-radius: 50%;\n",
              "      cursor: pointer;\n",
              "      display: none;\n",
              "      fill: #1967D2;\n",
              "      height: 32px;\n",
              "      padding: 0 0 0 0;\n",
              "      width: 32px;\n",
              "    }\n",
              "\n",
              "    .colab-df-convert:hover {\n",
              "      background-color: #E2EBFA;\n",
              "      box-shadow: 0px 1px 2px rgba(60, 64, 67, 0.3), 0px 1px 3px 1px rgba(60, 64, 67, 0.15);\n",
              "      fill: #174EA6;\n",
              "    }\n",
              "\n",
              "    .colab-df-buttons div {\n",
              "      margin-bottom: 4px;\n",
              "    }\n",
              "\n",
              "    [theme=dark] .colab-df-convert {\n",
              "      background-color: #3B4455;\n",
              "      fill: #D2E3FC;\n",
              "    }\n",
              "\n",
              "    [theme=dark] .colab-df-convert:hover {\n",
              "      background-color: #434B5C;\n",
              "      box-shadow: 0px 1px 3px 1px rgba(0, 0, 0, 0.15);\n",
              "      filter: drop-shadow(0px 1px 2px rgba(0, 0, 0, 0.3));\n",
              "      fill: #FFFFFF;\n",
              "    }\n",
              "  </style>\n",
              "\n",
              "    <script>\n",
              "      const buttonEl =\n",
              "        document.querySelector('#df-fafe0f66-6eb1-4e60-9f22-5bfb3b38f1b5 button.colab-df-convert');\n",
              "      buttonEl.style.display =\n",
              "        google.colab.kernel.accessAllowed ? 'block' : 'none';\n",
              "\n",
              "      async function convertToInteractive(key) {\n",
              "        const element = document.querySelector('#df-fafe0f66-6eb1-4e60-9f22-5bfb3b38f1b5');\n",
              "        const dataTable =\n",
              "          await google.colab.kernel.invokeFunction('convertToInteractive',\n",
              "                                                    [key], {});\n",
              "        if (!dataTable) return;\n",
              "\n",
              "        const docLinkHtml = 'Like what you see? Visit the ' +\n",
              "          '<a target=\"_blank\" href=https://colab.research.google.com/notebooks/data_table.ipynb>data table notebook</a>'\n",
              "          + ' to learn more about interactive tables.';\n",
              "        element.innerHTML = '';\n",
              "        dataTable['output_type'] = 'display_data';\n",
              "        await google.colab.output.renderOutput(dataTable, element);\n",
              "        const docLink = document.createElement('div');\n",
              "        docLink.innerHTML = docLinkHtml;\n",
              "        element.appendChild(docLink);\n",
              "      }\n",
              "    </script>\n",
              "  </div>\n",
              "\n",
              "\n",
              "<div id=\"df-e1efdb11-3065-4b1a-9b80-f9a8ad4a0822\">\n",
              "  <button class=\"colab-df-quickchart\" onclick=\"quickchart('df-e1efdb11-3065-4b1a-9b80-f9a8ad4a0822')\"\n",
              "            title=\"Suggest charts\"\n",
              "            style=\"display:none;\">\n",
              "\n",
              "<svg xmlns=\"http://www.w3.org/2000/svg\" height=\"24px\"viewBox=\"0 0 24 24\"\n",
              "     width=\"24px\">\n",
              "    <g>\n",
              "        <path d=\"M19 3H5c-1.1 0-2 .9-2 2v14c0 1.1.9 2 2 2h14c1.1 0 2-.9 2-2V5c0-1.1-.9-2-2-2zM9 17H7v-7h2v7zm4 0h-2V7h2v10zm4 0h-2v-4h2v4z\"/>\n",
              "    </g>\n",
              "</svg>\n",
              "  </button>\n",
              "\n",
              "<style>\n",
              "  .colab-df-quickchart {\n",
              "      --bg-color: #E8F0FE;\n",
              "      --fill-color: #1967D2;\n",
              "      --hover-bg-color: #E2EBFA;\n",
              "      --hover-fill-color: #174EA6;\n",
              "      --disabled-fill-color: #AAA;\n",
              "      --disabled-bg-color: #DDD;\n",
              "  }\n",
              "\n",
              "  [theme=dark] .colab-df-quickchart {\n",
              "      --bg-color: #3B4455;\n",
              "      --fill-color: #D2E3FC;\n",
              "      --hover-bg-color: #434B5C;\n",
              "      --hover-fill-color: #FFFFFF;\n",
              "      --disabled-bg-color: #3B4455;\n",
              "      --disabled-fill-color: #666;\n",
              "  }\n",
              "\n",
              "  .colab-df-quickchart {\n",
              "    background-color: var(--bg-color);\n",
              "    border: none;\n",
              "    border-radius: 50%;\n",
              "    cursor: pointer;\n",
              "    display: none;\n",
              "    fill: var(--fill-color);\n",
              "    height: 32px;\n",
              "    padding: 0;\n",
              "    width: 32px;\n",
              "  }\n",
              "\n",
              "  .colab-df-quickchart:hover {\n",
              "    background-color: var(--hover-bg-color);\n",
              "    box-shadow: 0 1px 2px rgba(60, 64, 67, 0.3), 0 1px 3px 1px rgba(60, 64, 67, 0.15);\n",
              "    fill: var(--button-hover-fill-color);\n",
              "  }\n",
              "\n",
              "  .colab-df-quickchart-complete:disabled,\n",
              "  .colab-df-quickchart-complete:disabled:hover {\n",
              "    background-color: var(--disabled-bg-color);\n",
              "    fill: var(--disabled-fill-color);\n",
              "    box-shadow: none;\n",
              "  }\n",
              "\n",
              "  .colab-df-spinner {\n",
              "    border: 2px solid var(--fill-color);\n",
              "    border-color: transparent;\n",
              "    border-bottom-color: var(--fill-color);\n",
              "    animation:\n",
              "      spin 1s steps(1) infinite;\n",
              "  }\n",
              "\n",
              "  @keyframes spin {\n",
              "    0% {\n",
              "      border-color: transparent;\n",
              "      border-bottom-color: var(--fill-color);\n",
              "      border-left-color: var(--fill-color);\n",
              "    }\n",
              "    20% {\n",
              "      border-color: transparent;\n",
              "      border-left-color: var(--fill-color);\n",
              "      border-top-color: var(--fill-color);\n",
              "    }\n",
              "    30% {\n",
              "      border-color: transparent;\n",
              "      border-left-color: var(--fill-color);\n",
              "      border-top-color: var(--fill-color);\n",
              "      border-right-color: var(--fill-color);\n",
              "    }\n",
              "    40% {\n",
              "      border-color: transparent;\n",
              "      border-right-color: var(--fill-color);\n",
              "      border-top-color: var(--fill-color);\n",
              "    }\n",
              "    60% {\n",
              "      border-color: transparent;\n",
              "      border-right-color: var(--fill-color);\n",
              "    }\n",
              "    80% {\n",
              "      border-color: transparent;\n",
              "      border-right-color: var(--fill-color);\n",
              "      border-bottom-color: var(--fill-color);\n",
              "    }\n",
              "    90% {\n",
              "      border-color: transparent;\n",
              "      border-bottom-color: var(--fill-color);\n",
              "    }\n",
              "  }\n",
              "</style>\n",
              "\n",
              "  <script>\n",
              "    async function quickchart(key) {\n",
              "      const quickchartButtonEl =\n",
              "        document.querySelector('#' + key + ' button');\n",
              "      quickchartButtonEl.disabled = true;  // To prevent multiple clicks.\n",
              "      quickchartButtonEl.classList.add('colab-df-spinner');\n",
              "      try {\n",
              "        const charts = await google.colab.kernel.invokeFunction(\n",
              "            'suggestCharts', [key], {});\n",
              "      } catch (error) {\n",
              "        console.error('Error during call to suggestCharts:', error);\n",
              "      }\n",
              "      quickchartButtonEl.classList.remove('colab-df-spinner');\n",
              "      quickchartButtonEl.classList.add('colab-df-quickchart-complete');\n",
              "    }\n",
              "    (() => {\n",
              "      let quickchartButtonEl =\n",
              "        document.querySelector('#df-e1efdb11-3065-4b1a-9b80-f9a8ad4a0822 button');\n",
              "      quickchartButtonEl.style.display =\n",
              "        google.colab.kernel.accessAllowed ? 'block' : 'none';\n",
              "    })();\n",
              "  </script>\n",
              "</div>\n",
              "\n",
              "    </div>\n",
              "  </div>\n"
            ],
            "text/plain": [
              "   Unnamed: 0                                              title  \\\n",
              "0           0          Networking in Google Cloud Specialization   \n",
              "1           1  Two Speed IT: How Companies Can Surf the Digit...   \n",
              "2           2              Fundamentals of Network Communication   \n",
              "3           3  Design a User Experience for Social Good & Pre...   \n",
              "4           4              Building Database Applications in PHP   \n",
              "\n",
              "                         category             type               level  \\\n",
              "0                      Networking  specializations  Intermediate Level   \n",
              "1             Business Essentials           course      Beginner Level   \n",
              "2  Computer Security and Networks           course  Intermediate Level   \n",
              "3              Design and Product           course      Beginner Level   \n",
              "4      Mobile and Web Development           course  Intermediate Level   \n",
              "\n",
              "                                         description price  rating  \\\n",
              "0  This specialization gives participants broad s...  free     4.8   \n",
              "1  Transform or disappear, the Darwinism of IT: I...  free     4.3   \n",
              "2  In this course, we trace the evolution of netw...  free     4.6   \n",
              "3  Design a User Experience for Social Good and P...  free     4.8   \n",
              "4  In this course, we'll look at the object orien...  free     4.9   \n",
              "\n",
              "                             duration language            prerequisites  \\\n",
              "0  Approximately 4 months to complete  English  no prerequisites needed   \n",
              "1        Approx. 14 hours to complete  English  no prerequisites needed   \n",
              "2        Approx. 15 hours to complete  English  no prerequisites needed   \n",
              "3        Approx. 71 hours to complete  English  no prerequisites needed   \n",
              "4        Approx. 24 hours to complete  English  no prerequisites needed   \n",
              "\n",
              "                                            syllabus  \\\n",
              "0                                    No specify data   \n",
              "1  Introduction ~.~ Start here! ~.~ IT and the CI...   \n",
              "2  Communication Networks and Services ~.~ This m...   \n",
              "3  Starting the UX design process: empathize, def...   \n",
              "4  PHP Objects ~.~ We look at the object oriented...   \n",
              "\n",
              "                                             modules  \\\n",
              "0  Google Cloud Fundamentals: Core Infrastructure...   \n",
              "1  Introduction,IT and the CIO in the Digital Wor...   \n",
              "2  Communication Networks and Services,Layered Ar...   \n",
              "3  Design for social good and strengthen your por...   \n",
              "4  PHP Objects,Connecting PHP and MySQL,PHP Cooki...   \n",
              "\n",
              "                                          instructor       certificate_type  \\\n",
              "0  Google Cloud TrainingGoogle Cloud1,482 Courses...  Shareable Certificate   \n",
              "1  Antoine GourévitchCentraleSupélec1 Course•21,6...  Shareable Certificate   \n",
              "2  Xiaobo ZhouUniversity of Colorado System4 Cour...  Shareable Certificate   \n",
              "3  Top InstructorGoogle Career CertificatesGoogle...  Shareable Certificate   \n",
              "4  Charles Russell SeveranceUniversity of Michiga...  Shareable Certificate   \n",
              "\n",
              "                     association  \\\n",
              "0                   Google Cloud   \n",
              "1                CentraleSupélec   \n",
              "2  University of Colorado System   \n",
              "3                         Google   \n",
              "4         University of Michigan   \n",
              "\n",
              "                                               image  \\\n",
              "0  https://s3.amazonaws.com/coursera_assets/meta_...   \n",
              "1  https://s3.amazonaws.com/coursera_assets/meta_...   \n",
              "2  https://s3.amazonaws.com/coursera_assets/meta_...   \n",
              "3  https://s3.amazonaws.com/coursera_assets/meta_...   \n",
              "4  https://s3.amazonaws.com/coursera_assets/meta_...   \n",
              "\n",
              "                                                 url            timestamp  \n",
              "0  https://www.coursera.org/specializations/netwo...  2022-07-29 23:58:34  \n",
              "1          https://www.coursera.org/learn/2-speed-it  2022-07-29 23:58:34  \n",
              "2  https://www.coursera.org/learn/fundamentals-ne...  2022-07-29 23:58:54  \n",
              "3      https://www.coursera.org/learn/ux-design-jobs  2022-07-29 23:59:20  \n",
              "4  https://www.coursera.org/learn/database-applic...  2022-07-29 23:59:20  "
            ]
          },
          "execution_count": 6,
          "metadata": {},
          "output_type": "execute_result"
        }
      ],
      "source": [
        "import pandas as pd\n",
        "\n",
        "# Load the CSV file\n",
        "df = pd.read_csv(dataset_path)\n",
        "\n",
        "# Display the first 5 rows\n",
        "df.head()"
      ]
    },
    {
      "cell_type": "code",
      "execution_count": 7,
      "metadata": {
        "colab": {
          "base_uri": "https://localhost:8080/"
        },
        "id": "OTQAsQJ9n3PT",
        "outputId": "06e58b7f-6556-4213-844d-734b78c020b8"
      },
      "outputs": [
        {
          "name": "stdout",
          "output_type": "stream",
          "text": [
            "<class 'pandas.core.frame.DataFrame'>\n",
            "RangeIndex: 208 entries, 0 to 207\n",
            "Data columns (total 19 columns):\n",
            " #   Column            Non-Null Count  Dtype  \n",
            "---  ------            --------------  -----  \n",
            " 0   Unnamed: 0        208 non-null    int64  \n",
            " 1   title             208 non-null    object \n",
            " 2   category          208 non-null    object \n",
            " 3   type              208 non-null    object \n",
            " 4   level             208 non-null    object \n",
            " 5   description       208 non-null    object \n",
            " 6   price             208 non-null    object \n",
            " 7   rating            208 non-null    float64\n",
            " 8   duration          208 non-null    object \n",
            " 9   language          208 non-null    object \n",
            " 10  prerequisites     208 non-null    object \n",
            " 11  syllabus          208 non-null    object \n",
            " 12  modules           208 non-null    object \n",
            " 13  instructor        208 non-null    object \n",
            " 14  certificate_type  208 non-null    object \n",
            " 15  association       208 non-null    object \n",
            " 16  image             208 non-null    object \n",
            " 17  url               208 non-null    object \n",
            " 18  timestamp         208 non-null    object \n",
            "dtypes: float64(1), int64(1), object(17)\n",
            "memory usage: 31.0+ KB\n"
          ]
        }
      ],
      "source": [
        "# Check data summary\n",
        "df.info()"
      ]
    },
    {
      "cell_type": "code",
      "execution_count": 8,
      "metadata": {
        "colab": {
          "base_uri": "https://localhost:8080/"
        },
        "id": "OJGN_qCGoGZr",
        "outputId": "8ee43611-d509-495f-e984-528e6f48fdbc"
      },
      "outputs": [
        {
          "data": {
            "text/plain": [
              "Unnamed: 0          0\n",
              "title               0\n",
              "category            0\n",
              "type                0\n",
              "level               0\n",
              "description         0\n",
              "price               0\n",
              "rating              0\n",
              "duration            0\n",
              "language            0\n",
              "prerequisites       0\n",
              "syllabus            0\n",
              "modules             0\n",
              "instructor          0\n",
              "certificate_type    0\n",
              "association         0\n",
              "image               0\n",
              "url                 0\n",
              "timestamp           0\n",
              "dtype: int64"
            ]
          },
          "execution_count": 8,
          "metadata": {},
          "output_type": "execute_result"
        }
      ],
      "source": [
        "# Check missing values\n",
        "df.isnull().sum()"
      ]
    },
    {
      "cell_type": "code",
      "execution_count": 9,
      "metadata": {
        "colab": {
          "base_uri": "https://localhost:8080/",
          "height": 423
        },
        "id": "uvqngebBoJn_",
        "outputId": "245e5d40-4b92-4b66-93b5-f80d39e3c0d3"
      },
      "outputs": [
        {
          "data": {
            "text/plain": [
              "<Axes: >"
            ]
          },
          "execution_count": 9,
          "metadata": {},
          "output_type": "execute_result"
        },
        {
          "data": {
            "image/png": "[encoded data removed]",
            "text/plain": [
              "<Figure size 2500x1000 with 2 Axes>"
            ]
          },
          "metadata": {},
          "output_type": "display_data"
        }
      ],
      "source": [
        "import missingno as msno\n",
        "import pandas as pd\n",
        "\n",
        "# Visualize data\n",
        "msno.matrix(df)"
      ]
    },
    {
      "cell_type": "markdown",
      "metadata": {
        "id": "IljDjnPKoaJz"
      },
      "source": [
        "Setelah identifikasi missing value, langkah selanjutnya adalah cek duplikat rows dalam dataset dengan `duplicated().sum()`"
      ]
    },
    {
      "cell_type": "markdown",
      "metadata": {},
      "source": [
        "#### **2. Check for Duplicates**"
      ]
    },
    {
      "cell_type": "code",
      "execution_count": 10,
      "metadata": {
        "colab": {
          "base_uri": "https://localhost:8080/"
        },
        "id": "r6p9DclFonkT",
        "outputId": "9ef4a71d-adf5-4777-9e98-7c5bf14d06ee"
      },
      "outputs": [
        {
          "data": {
            "text/plain": [
              "0"
            ]
          },
          "execution_count": 10,
          "metadata": {},
          "output_type": "execute_result"
        }
      ],
      "source": [
        "# Check total of duplicated rows\n",
        "df.duplicated().sum()"
      ]
    },
    {
      "cell_type": "markdown",
      "metadata": {
        "id": "OSViZwgKotBV"
      },
      "source": [
        "Hasilnya dikonfirmasi bahwa tidak ada baris yang duplikat pada dataset."
      ]
    },
    {
      "cell_type": "markdown",
      "metadata": {},
      "source": [
        "#### **3. Check Column Names**"
      ]
    },
    {
      "cell_type": "code",
      "execution_count": 11,
      "metadata": {
        "colab": {
          "base_uri": "https://localhost:8080/"
        },
        "id": "VmtGkNRWo2Rv",
        "outputId": "5d901633-77ff-4033-c219-36eb60b8d4e3"
      },
      "outputs": [
        {
          "data": {
            "text/plain": [
              "Index(['Unnamed: 0', 'title', 'category', 'type', 'level', 'description',\n",
              "       'price', 'rating', 'duration', 'language', 'prerequisites', 'syllabus',\n",
              "       'modules', 'instructor', 'certificate_type', 'association', 'image',\n",
              "       'url', 'timestamp'],\n",
              "      dtype='object')"
            ]
          },
          "execution_count": 11,
          "metadata": {},
          "output_type": "execute_result"
        }
      ],
      "source": [
        "# Check column names\n",
        "df.columns"
      ]
    },
    {
      "cell_type": "markdown",
      "metadata": {
        "id": "XJJTYlbPfAX8"
      },
      "source": [
        "### **C. Feature Engineering**"
      ]
    },
    {
      "cell_type": "markdown",
      "metadata": {
        "id": "mWeC5j1gpVmo"
      },
      "source": [
        "#### **1. Drop Kolom Tidak Terpakai**"
      ]
    },
    {
      "cell_type": "markdown",
      "metadata": {
        "id": "x58pjVhTiSeY"
      },
      "source": [
        "Setelah data loading dan data checking, selanjutnya dilakukan preprocessing teks pada kolom-kolom yang relevan seperti `title`, `description`, `syllabus`, `modules`, dan `instructor`. Jadi kolom-kolom yang tidak relevan akan di drop."
      ]
    },
    {
      "cell_type": "code",
      "execution_count": 12,
      "metadata": {
        "colab": {
          "base_uri": "https://localhost:8080/",
          "height": 467
        },
        "id": "twV41R-9qh6S",
        "outputId": "12eb2357-fb12-40b2-f81c-3c1fe0d3def6"
      },
      "outputs": [
        {
          "data": {
            "application/vnd.google.colaboratory.intrinsic+json": {
              "summary": "{\n  \"name\": \"df\",\n  \"rows\": 208,\n  \"fields\": [\n    {\n      \"column\": \"title\",\n      \"properties\": {\n        \"dtype\": \"string\",\n        \"num_unique_values\": 169,\n        \"samples\": [\n          \"Quantum Optics 1 : Single Photons\",\n          \"Los bits y bytes de las redes inform\\u00e1ticas\",\n          \"Communication Strategies for a Virtual Age\"\n        ],\n        \"semantic_type\": \"\",\n        \"description\": \"\"\n      }\n    },\n    {\n      \"column\": \"description\",\n      \"properties\": {\n        \"dtype\": \"string\",\n        \"num_unique_values\": 162,\n        \"samples\": [\n          \"Data science is one of the hottest professions of the decade, and the demand for data scientists who can analyze data and communicate results to inform data driven decisions has never been greater. This Professional Certificate from IBM will help anyone interested in pursuing a\",\n          \"Despite everyone's good intentions, hard work and solid ideas, too many teams end up creating products that no one wants, no one can use, and no one buys. But it doesn't have to be this way. Agile and design thinking offer a different--and effective--approach to product development, one that results in valuable solutions to meaningful problems. In this course, you\\u2019ll learn how to determine what's valuable to a user early in the process--to frontload value--by focusing your team on testable narratives about the user and creating a strong shared perspective.\",\n          \"As data becomes the modern currency, so the ability to analyse the data quickly and accurately has become of paramount importance. Excel with its extraordinarily broad range of features and capabilities is one of the most widely used programs for doing this. In the first course of our Excel Skills for Data Analysis and Visualization Specialization, you will learn the fundamentals of Excel for data analysis. When you have completed the course, you will be able to use a range of Excel tools and functions to clean and prepare data for analysis; automate data analysis with the help of Named Ranges and Tables; and use logical and lookup functions to transform, link and categorise data.\"\n        ],\n        \"semantic_type\": \"\",\n        \"description\": \"\"\n      }\n    },\n    {\n      \"column\": \"syllabus\",\n      \"properties\": {\n        \"dtype\": \"string\",\n        \"num_unique_values\": 117,\n        \"samples\": [\n          \"N\\u00fameros naturales y sistemas de numeraci\\u00f3n ~.~ En este m\\u00f3dulo, abordamos los n\\u00fameros naturales: exploramos sus or\\u00edgenes y estudiamos c\\u00f3mo se representan y c\\u00f3mo se usan en diferentes situaciones. ~.~ Aritm\\u00e9tica de los n\\u00fameros naturales ~.~ En este m\\u00f3dulo, abordamos el significado de la operaciones aditivas y multiplicativas con n\\u00fameros naturales, es decir: los contextos y situaciones en las que se utilizan, las definiciones y formas de realizarlas y sus representaciones. ~.~ N\\u00fameros racionales ~.~ En este m\\u00f3dulo presentamos y relacionamos diferentes representaciones de los n\\u00fameros racionales. ~.~ Geometr\\u00eda elemental del plano ~.~ En este m\\u00f3dulo abordamos los elementos geom\\u00e9tricos, las caracter\\u00edsticas de las figuras geom\\u00e9tricas m\\u00e1s comunes y su clasificaci\\u00f3n. ~.~ Magnitudes y medidas. Medidas directas ~.~ En este m\\u00f3dulo conoceremos distintas magnitudes que se trabajan en la educaci\\u00f3n primaria. ~.~ Aplicaci\\u00f3n de los conceptos aprendidos ~.~ En esta actividad pondr\\u00e1s en juego las siguientes ideas clave que se han abordado en el curso: la medida como uso del n\\u00famero, las operaciones aditivas y multiplicativas de los n\\u00fameros naturales, las representaciones, los significados y operaciones con n\\u00fameros racionales, los cuadril\\u00e1teros, la longitud, la superficie y la capacidad, la estimaci\\u00f3n, y los factores de conversi\\u00f3n en las medidas indirectas.\",\n          \"PHP Objects ~.~ We look at the object oriented patterns available in PHP. ~.~ Connecting PHP and MySQL ~.~ We look at how we connect to a MySQL using the Portable Data Objects (PDO) library and issue SQL commands in the the PHP language. ~.~ PHP Cookies and Sessions ~.~ We look at how PHP uses cookies and manages session data. ~.~ PHP Redirect, Routing, and Authentication ~.~ We look at how PHP avoids double posting data, how flash messages are implemented, and how we use a session to log in users in web applications. ~.~ Building a CRUD Application ~.~ Now we build our first 'complete' application that has multiple screens to Create, Read, Update and Delete (CRUD) our data. This brings all the previous concepts together and will form the basis for all later web applications.\",\n          \"Modul 2: Layanan Penyimpanan dan Database ~.~ Di modul ini, kami membahas layanan penyimpanan dan database di GCP. Setiap aplikasi perlu menyimpan data, baik berupa data bisnis, media streaming, maupun data sensor dari perangkat. ~.~ Modul 4: Pemantauan Resource ~.~ Dalam modul ini, kami akan memberikan ringkasan opsi pemantauan resource di GCP. Fitur yang dibahas di modul ini bergantung pada Stackdriver, layanan yang menyediakan pemantauan, logging, dan diagnostik untuk aplikasi Anda.\"\n        ],\n        \"semantic_type\": \"\",\n        \"description\": \"\"\n      }\n    },\n    {\n      \"column\": \"modules\",\n      \"properties\": {\n        \"dtype\": \"string\",\n        \"num_unique_values\": 153,\n        \"samples\": [\n          \"Mathematics for Machine Learning: Linear Algebra,Mathematics for Machine Learning: Multivariate Calculus,Mathematics for Machine Learning: PCA,Instructors,Offered by,More questions\",\n          \"E-tivity 1: What Is Research and What Makes a Good Research Question?,E-tivity 2: What Is a Literature Review and Why Do We Need to Do One?,E-tivity 3: Why Are Planning and Management Skills Important for Research?,E-tivity 4: How Do You Know You Have Been a Good Researcher at the End of a Project?,Instructors,Offered by,Recommended if you're interested in Research Methods,More questions\",\n          \"Get exclusive access to career resources upon completion,Introduction to Cloud Computing,Introduction to Web Development with HTML, CSS, JavaScript,Getting Started with Git and GitHub,Developing Front-End Apps with React,Developing Back-End Apps with Node.js and Express,Python for Data Science, AI & Development,Developing AI Applications with Python and Flask,Django Application Development with SQL and Databases,Introduction to Containers w/ Docker, Kubernetes & OpenShift,Application Development using Microservices and Serverless ,Full Stack Application Development Capstone Project,Full Stack Software Developer Assessment,Generative AI:\\u00a0Elevate your Software Development Career,Software Developer Career Guide and Interview Preparation,Instructors,Offered by,More questions\"\n        ],\n        \"semantic_type\": \"\",\n        \"description\": \"\"\n      }\n    },\n    {\n      \"column\": \"instructor\",\n      \"properties\": {\n        \"dtype\": \"string\",\n        \"num_unique_values\": 105,\n        \"samples\": [\n          \"James DaltonPalo Alto Networks9 Courses\\u202255,011 learners,Palo Alto NetworksLearn moreCloseOffered byPalo Alto NetworksThe Palo Alto Networks Cybersecurity Academy equips students with leading-edge cybersecurity knowledge and skills they will need to protect their digital way of life and prepare for the many unfilled jobs in cybersecurity.OK\",\n          \"Jana Schaich BorgDuke University7 Courses\\u2022732,043 learners,Daniel EggerDuke University8 Courses\\u20221,155,003 learners,Duke UniversityLearn moreCloseOffered byDuke UniversityDuke University has about 13,000 undergraduate and graduate students and a world-class faculty helping to expand the frontiers of knowledge. The university has a strong commitment to applying knowledge in service to society, both near its North Carolina campus and around the world.OK\",\n          \"Susan H. RodgerDuke University9 Courses\\u2022867,418 learners,Robert DuvallDuke University8 Courses\\u2022849,518 learners,Duke UniversityLearn moreCloseOffered byDuke UniversityDuke University has about 13,000 undergraduate and graduate students and a world-class faculty helping to expand the frontiers of knowledge. The university has a strong commitment to applying knowledge in service to society, both near its North Carolina campus and around the world.OK\"\n        ],\n        \"semantic_type\": \"\",\n        \"description\": \"\"\n      }\n    }\n  ]\n}",
              "type": "dataframe",
              "variable_name": "df"
            },
            "text/html": [
              "\n",
              "  <div id=\"df-d19985a4-a9cf-4221-a138-1391e8f6c5b8\" class=\"colab-df-container\">\n",
              "    <div>\n",
              "<style scoped>\n",
              "    .dataframe tbody tr th:only-of-type {\n",
              "        vertical-align: middle;\n",
              "    }\n",
              "\n",
              "    .dataframe tbody tr th {\n",
              "        vertical-align: top;\n",
              "    }\n",
              "\n",
              "    .dataframe thead th {\n",
              "        text-align: right;\n",
              "    }\n",
              "</style>\n",
              "<table border=\"1\" class=\"dataframe\">\n",
              "  <thead>\n",
              "    <tr style=\"text-align: right;\">\n",
              "      <th></th>\n",
              "      <th>title</th>\n",
              "      <th>description</th>\n",
              "      <th>syllabus</th>\n",
              "      <th>modules</th>\n",
              "      <th>instructor</th>\n",
              "    </tr>\n",
              "  </thead>\n",
              "  <tbody>\n",
              "    <tr>\n",
              "      <th>0</th>\n",
              "      <td>Networking in Google Cloud Specialization</td>\n",
              "      <td>This specialization gives participants broad s...</td>\n",
              "      <td>No specify data</td>\n",
              "      <td>Google Cloud Fundamentals: Core Infrastructure...</td>\n",
              "      <td>Google Cloud TrainingGoogle Cloud1,482 Courses...</td>\n",
              "    </tr>\n",
              "    <tr>\n",
              "      <th>1</th>\n",
              "      <td>Two Speed IT: How Companies Can Surf the Digit...</td>\n",
              "      <td>Transform or disappear, the Darwinism of IT: I...</td>\n",
              "      <td>Introduction ~.~ Start here! ~.~ IT and the CI...</td>\n",
              "      <td>Introduction,IT and the CIO in the Digital Wor...</td>\n",
              "      <td>Antoine GourévitchCentraleSupélec1 Course•21,6...</td>\n",
              "    </tr>\n",
              "    <tr>\n",
              "      <th>2</th>\n",
              "      <td>Fundamentals of Network Communication</td>\n",
              "      <td>In this course, we trace the evolution of netw...</td>\n",
              "      <td>Communication Networks and Services ~.~ This m...</td>\n",
              "      <td>Communication Networks and Services,Layered Ar...</td>\n",
              "      <td>Xiaobo ZhouUniversity of Colorado System4 Cour...</td>\n",
              "    </tr>\n",
              "    <tr>\n",
              "      <th>3</th>\n",
              "      <td>Design a User Experience for Social Good &amp; Pre...</td>\n",
              "      <td>Design a User Experience for Social Good and P...</td>\n",
              "      <td>Starting the UX design process: empathize, def...</td>\n",
              "      <td>Design for social good and strengthen your por...</td>\n",
              "      <td>Top InstructorGoogle Career CertificatesGoogle...</td>\n",
              "    </tr>\n",
              "    <tr>\n",
              "      <th>4</th>\n",
              "      <td>Building Database Applications in PHP</td>\n",
              "      <td>In this course, we'll look at the object orien...</td>\n",
              "      <td>PHP Objects ~.~ We look at the object oriented...</td>\n",
              "      <td>PHP Objects,Connecting PHP and MySQL,PHP Cooki...</td>\n",
              "      <td>Charles Russell SeveranceUniversity of Michiga...</td>\n",
              "    </tr>\n",
              "  </tbody>\n",
              "</table>\n",
              "</div>\n",
              "    <div class=\"colab-df-buttons\">\n",
              "\n",
              "  <div class=\"colab-df-container\">\n",
              "    <button class=\"colab-df-convert\" onclick=\"convertToInteractive('df-d19985a4-a9cf-4221-a138-1391e8f6c5b8')\"\n",
              "            title=\"Convert this dataframe to an interactive table.\"\n",
              "            style=\"display:none;\">\n",
              "\n",
              "  <svg xmlns=\"http://www.w3.org/2000/svg\" height=\"24px\" viewBox=\"0 -960 960 960\">\n",
              "    <path d=\"M120-120v-720h720v720H120Zm60-500h600v-160H180v160Zm220 220h160v-160H400v160Zm0 220h160v-160H400v160ZM180-400h160v-160H180v160Zm440 0h160v-160H620v160ZM180-180h160v-160H180v160Zm440 0h160v-160H620v160Z\"/>\n",
              "  </svg>\n",
              "    </button>\n",
              "\n",
              "  <style>\n",
              "    .colab-df-container {\n",
              "      display:flex;\n",
              "      gap: 12px;\n",
              "    }\n",
              "\n",
              "    .colab-df-convert {\n",
              "      background-color: #E8F0FE;\n",
              "      border: none;\n",
              "      border-radius: 50%;\n",
              "      cursor: pointer;\n",
              "      display: none;\n",
              "      fill: #1967D2;\n",
              "      height: 32px;\n",
              "      padding: 0 0 0 0;\n",
              "      width: 32px;\n",
              "    }\n",
              "\n",
              "    .colab-df-convert:hover {\n",
              "      background-color: #E2EBFA;\n",
              "      box-shadow: 0px 1px 2px rgba(60, 64, 67, 0.3), 0px 1px 3px 1px rgba(60, 64, 67, 0.15);\n",
              "      fill: #174EA6;\n",
              "    }\n",
              "\n",
              "    .colab-df-buttons div {\n",
              "      margin-bottom: 4px;\n",
              "    }\n",
              "\n",
              "    [theme=dark] .colab-df-convert {\n",
              "      background-color: #3B4455;\n",
              "      fill: #D2E3FC;\n",
              "    }\n",
              "\n",
              "    [theme=dark] .colab-df-convert:hover {\n",
              "      background-color: #434B5C;\n",
              "      box-shadow: 0px 1px 3px 1px rgba(0, 0, 0, 0.15);\n",
              "      filter: drop-shadow(0px 1px 2px rgba(0, 0, 0, 0.3));\n",
              "      fill: #FFFFFF;\n",
              "    }\n",
              "  </style>\n",
              "\n",
              "    <script>\n",
              "      const buttonEl =\n",
              "        document.querySelector('#df-d19985a4-a9cf-4221-a138-1391e8f6c5b8 button.colab-df-convert');\n",
              "      buttonEl.style.display =\n",
              "        google.colab.kernel.accessAllowed ? 'block' : 'none';\n",
              "\n",
              "      async function convertToInteractive(key) {\n",
              "        const element = document.querySelector('#df-d19985a4-a9cf-4221-a138-1391e8f6c5b8');\n",
              "        const dataTable =\n",
              "          await google.colab.kernel.invokeFunction('convertToInteractive',\n",
              "                                                    [key], {});\n",
              "        if (!dataTable) return;\n",
              "\n",
              "        const docLinkHtml = 'Like what you see? Visit the ' +\n",
              "          '<a target=\"_blank\" href=https://colab.research.google.com/notebooks/data_table.ipynb>data table notebook</a>'\n",
              "          + ' to learn more about interactive tables.';\n",
              "        element.innerHTML = '';\n",
              "        dataTable['output_type'] = 'display_data';\n",
              "        await google.colab.output.renderOutput(dataTable, element);\n",
              "        const docLink = document.createElement('div');\n",
              "        docLink.innerHTML = docLinkHtml;\n",
              "        element.appendChild(docLink);\n",
              "      }\n",
              "    </script>\n",
              "  </div>\n",
              "\n",
              "\n",
              "<div id=\"df-21e846f1-483a-4ad2-9e66-b3f2868579fb\">\n",
              "  <button class=\"colab-df-quickchart\" onclick=\"quickchart('df-21e846f1-483a-4ad2-9e66-b3f2868579fb')\"\n",
              "            title=\"Suggest charts\"\n",
              "            style=\"display:none;\">\n",
              "\n",
              "<svg xmlns=\"http://www.w3.org/2000/svg\" height=\"24px\"viewBox=\"0 0 24 24\"\n",
              "     width=\"24px\">\n",
              "    <g>\n",
              "        <path d=\"M19 3H5c-1.1 0-2 .9-2 2v14c0 1.1.9 2 2 2h14c1.1 0 2-.9 2-2V5c0-1.1-.9-2-2-2zM9 17H7v-7h2v7zm4 0h-2V7h2v10zm4 0h-2v-4h2v4z\"/>\n",
              "    </g>\n",
              "</svg>\n",
              "  </button>\n",
              "\n",
              "<style>\n",
              "  .colab-df-quickchart {\n",
              "      --bg-color: #E8F0FE;\n",
              "      --fill-color: #1967D2;\n",
              "      --hover-bg-color: #E2EBFA;\n",
              "      --hover-fill-color: #174EA6;\n",
              "      --disabled-fill-color: #AAA;\n",
              "      --disabled-bg-color: #DDD;\n",
              "  }\n",
              "\n",
              "  [theme=dark] .colab-df-quickchart {\n",
              "      --bg-color: #3B4455;\n",
              "      --fill-color: #D2E3FC;\n",
              "      --hover-bg-color: #434B5C;\n",
              "      --hover-fill-color: #FFFFFF;\n",
              "      --disabled-bg-color: #3B4455;\n",
              "      --disabled-fill-color: #666;\n",
              "  }\n",
              "\n",
              "  .colab-df-quickchart {\n",
              "    background-color: var(--bg-color);\n",
              "    border: none;\n",
              "    border-radius: 50%;\n",
              "    cursor: pointer;\n",
              "    display: none;\n",
              "    fill: var(--fill-color);\n",
              "    height: 32px;\n",
              "    padding: 0;\n",
              "    width: 32px;\n",
              "  }\n",
              "\n",
              "  .colab-df-quickchart:hover {\n",
              "    background-color: var(--hover-bg-color);\n",
              "    box-shadow: 0 1px 2px rgba(60, 64, 67, 0.3), 0 1px 3px 1px rgba(60, 64, 67, 0.15);\n",
              "    fill: var(--button-hover-fill-color);\n",
              "  }\n",
              "\n",
              "  .colab-df-quickchart-complete:disabled,\n",
              "  .colab-df-quickchart-complete:disabled:hover {\n",
              "    background-color: var(--disabled-bg-color);\n",
              "    fill: var(--disabled-fill-color);\n",
              "    box-shadow: none;\n",
              "  }\n",
              "\n",
              "  .colab-df-spinner {\n",
              "    border: 2px solid var(--fill-color);\n",
              "    border-color: transparent;\n",
              "    border-bottom-color: var(--fill-color);\n",
              "    animation:\n",
              "      spin 1s steps(1) infinite;\n",
              "  }\n",
              "\n",
              "  @keyframes spin {\n",
              "    0% {\n",
              "      border-color: transparent;\n",
              "      border-bottom-color: var(--fill-color);\n",
              "      border-left-color: var(--fill-color);\n",
              "    }\n",
              "    20% {\n",
              "      border-color: transparent;\n",
              "      border-left-color: var(--fill-color);\n",
              "      border-top-color: var(--fill-color);\n",
              "    }\n",
              "    30% {\n",
              "      border-color: transparent;\n",
              "      border-left-color: var(--fill-color);\n",
              "      border-top-color: var(--fill-color);\n",
              "      border-right-color: var(--fill-color);\n",
              "    }\n",
              "    40% {\n",
              "      border-color: transparent;\n",
              "      border-right-color: var(--fill-color);\n",
              "      border-top-color: var(--fill-color);\n",
              "    }\n",
              "    60% {\n",
              "      border-color: transparent;\n",
              "      border-right-color: var(--fill-color);\n",
              "    }\n",
              "    80% {\n",
              "      border-color: transparent;\n",
              "      border-right-color: var(--fill-color);\n",
              "      border-bottom-color: var(--fill-color);\n",
              "    }\n",
              "    90% {\n",
              "      border-color: transparent;\n",
              "      border-bottom-color: var(--fill-color);\n",
              "    }\n",
              "  }\n",
              "</style>\n",
              "\n",
              "  <script>\n",
              "    async function quickchart(key) {\n",
              "      const quickchartButtonEl =\n",
              "        document.querySelector('#' + key + ' button');\n",
              "      quickchartButtonEl.disabled = true;  // To prevent multiple clicks.\n",
              "      quickchartButtonEl.classList.add('colab-df-spinner');\n",
              "      try {\n",
              "        const charts = await google.colab.kernel.invokeFunction(\n",
              "            'suggestCharts', [key], {});\n",
              "      } catch (error) {\n",
              "        console.error('Error during call to suggestCharts:', error);\n",
              "      }\n",
              "      quickchartButtonEl.classList.remove('colab-df-spinner');\n",
              "      quickchartButtonEl.classList.add('colab-df-quickchart-complete');\n",
              "    }\n",
              "    (() => {\n",
              "      let quickchartButtonEl =\n",
              "        document.querySelector('#df-21e846f1-483a-4ad2-9e66-b3f2868579fb button');\n",
              "      quickchartButtonEl.style.display =\n",
              "        google.colab.kernel.accessAllowed ? 'block' : 'none';\n",
              "    })();\n",
              "  </script>\n",
              "</div>\n",
              "\n",
              "    </div>\n",
              "  </div>\n"
            ],
            "text/plain": [
              "                                               title  \\\n",
              "0          Networking in Google Cloud Specialization   \n",
              "1  Two Speed IT: How Companies Can Surf the Digit...   \n",
              "2              Fundamentals of Network Communication   \n",
              "3  Design a User Experience for Social Good & Pre...   \n",
              "4              Building Database Applications in PHP   \n",
              "\n",
              "                                         description  \\\n",
              "0  This specialization gives participants broad s...   \n",
              "1  Transform or disappear, the Darwinism of IT: I...   \n",
              "2  In this course, we trace the evolution of netw...   \n",
              "3  Design a User Experience for Social Good and P...   \n",
              "4  In this course, we'll look at the object orien...   \n",
              "\n",
              "                                            syllabus  \\\n",
              "0                                    No specify data   \n",
              "1  Introduction ~.~ Start here! ~.~ IT and the CI...   \n",
              "2  Communication Networks and Services ~.~ This m...   \n",
              "3  Starting the UX design process: empathize, def...   \n",
              "4  PHP Objects ~.~ We look at the object oriented...   \n",
              "\n",
              "                                             modules  \\\n",
              "0  Google Cloud Fundamentals: Core Infrastructure...   \n",
              "1  Introduction,IT and the CIO in the Digital Wor...   \n",
              "2  Communication Networks and Services,Layered Ar...   \n",
              "3  Design for social good and strengthen your por...   \n",
              "4  PHP Objects,Connecting PHP and MySQL,PHP Cooki...   \n",
              "\n",
              "                                          instructor  \n",
              "0  Google Cloud TrainingGoogle Cloud1,482 Courses...  \n",
              "1  Antoine GourévitchCentraleSupélec1 Course•21,6...  \n",
              "2  Xiaobo ZhouUniversity of Colorado System4 Cour...  \n",
              "3  Top InstructorGoogle Career CertificatesGoogle...  \n",
              "4  Charles Russell SeveranceUniversity of Michiga...  "
            ]
          },
          "execution_count": 12,
          "metadata": {},
          "output_type": "execute_result"
        }
      ],
      "source": [
        "# Drop unnecessary columns\n",
        "df.drop(['Unnamed: 0', 'category', 'type', 'level','price', 'rating', 'duration',\n",
        "         'language', 'prerequisites', 'certificate_type', 'association', 'image',\n",
        "         'url', 'timestamp'], axis = 1, inplace = True)\n",
        "\n",
        "# Show the first 5 rows\n",
        "df.head()"
      ]
    },
    {
      "cell_type": "markdown",
      "metadata": {
        "id": "eGr-XXHlrtN5"
      },
      "source": [
        "#### **2. Preprocessing Text**"
      ]
    },
    {
      "cell_type": "code",
      "execution_count": 13,
      "metadata": {
        "colab": {
          "base_uri": "https://localhost:8080/"
        },
        "id": "P6VHR1cuVuFL",
        "outputId": "285cffde-d6b9-4b0b-a719-819880ca3cd8"
      },
      "outputs": [
        {
          "name": "stdout",
          "output_type": "stream",
          "text": [
            "Requirement already satisfied: nltk in /usr/local/lib/python3.10/dist-packages (3.8.1)\n",
            "Requirement already satisfied: click in /usr/local/lib/python3.10/dist-packages (from nltk) (8.1.7)\n",
            "Requirement already satisfied: joblib in /usr/local/lib/python3.10/dist-packages (from nltk) (1.4.2)\n",
            "Requirement already satisfied: regex>=2021.8.3 in /usr/local/lib/python3.10/dist-packages (from nltk) (2024.5.15)\n",
            "Requirement already satisfied: tqdm in /usr/local/lib/python3.10/dist-packages (from nltk) (4.66.4)\n"
          ]
        }
      ],
      "source": [
        "pip install nltk\n"
      ]
    },
    {
      "cell_type": "code",
      "execution_count": 14,
      "metadata": {
        "colab": {
          "base_uri": "https://localhost:8080/"
        },
        "id": "-l2_8BDtrnku",
        "outputId": "f755fd9d-42c3-4a4c-97ea-14242cd5fe5e"
      },
      "outputs": [
        {
          "name": "stderr",
          "output_type": "stream",
          "text": [
            "[nltk_data] Downloading package stopwords to /root/nltk_data...\n",
            "[nltk_data]   Unzipping corpora/stopwords.zip.\n"
          ]
        }
      ],
      "source": [
        "import pandas as pd\n",
        "import re\n",
        "from nltk.corpus import stopwords\n",
        "from collections import Counter\n",
        "import nltk\n",
        "\n",
        "# Ensure stopwords are downloaded\n",
        "nltk.download('stopwords')\n",
        "\n",
        "# Preprocessing function\n",
        "def preprocess_text(text):\n",
        "    # Lowercase\n",
        "    text = text.lower()\n",
        "    # Remove punctuation and numbers\n",
        "    text = re.sub(r'[^a-zA-Z\\s]', '', text)\n",
        "    # Tokenization\n",
        "    tokens = text.split()\n",
        "    # Remove stop words\n",
        "    tokens = [word for word in tokens if word not in stopwords.words('english')]\n",
        "    return ' '.join(tokens)\n",
        "\n",
        "# Apply preprocessing to the columns\n",
        "df['title_clean'] = df['title'].apply(preprocess_text)\n",
        "df['description_clean'] = df['description'].apply(preprocess_text)\n",
        "df['syllabus_clean'] = df['syllabus'].apply(preprocess_text)\n",
        "df['modules_clean'] = df['modules'].apply(preprocess_text)\n",
        "df['instructor_clean'] = df['instructor'].apply(preprocess_text)\n"
      ]
    },
    {
      "cell_type": "markdown",
      "metadata": {},
      "source": [
        "#### **3. Combine Cleaned Text**"
      ]
    },
    {
      "cell_type": "markdown",
      "metadata": {
        "id": "9WWXugGbr64P"
      },
      "source": [
        "Selanjutnya menggabungkan teks dari kolom-kolom yang telah diproses menjadi satu kolom.\n",
        "\n"
      ]
    },
    {
      "cell_type": "code",
      "execution_count": 15,
      "metadata": {
        "id": "JczI2uybsBS6"
      },
      "outputs": [],
      "source": [
        "# Combine the cleaned text data into one column\n",
        "df['combined_clean'] = df['title_clean'] + \" \" + df['description_clean'] + \" \" + df['syllabus_clean'] + \" \" + df['modules_clean'] + \" \" + df['instructor_clean']\n"
      ]
    },
    {
      "cell_type": "markdown",
      "metadata": {},
      "source": [
        "### **D. Text Vectorization dan Similarity Calculation**"
      ]
    },
    {
      "cell_type": "markdown",
      "metadata": {
        "id": "g91WDjB1AJsU"
      },
      "source": [
        "#### **1. Text Vectorization**\n",
        "\n",
        "- Mengubah teks menjadi representasi vektor menggunakan TF-IDF\n",
        "- Menghitung matriks kesamaan menggunakan cosine similarity"
      ]
    },
    {
      "cell_type": "code",
      "execution_count": 16,
      "metadata": {
        "id": "3lIPuXzdAnHN"
      },
      "outputs": [],
      "source": [
        "# Text Vectorization dan Similarity Calculation\n",
        "from sklearn.feature_extraction.text import TfidfVectorizer\n",
        "from sklearn.metrics.pairwise import cosine_similarity\n",
        "\n",
        "# Text Vectorization using TF-IDF\n",
        "tfidf = TfidfVectorizer(analyzer = 'word', ngram_range = (1, 2), min_df = 2, stop_words = \"english\")\n",
        "tfidf_desc = tfidf.fit(df['combined_clean'])\n"
      ]
    },
    {
      "cell_type": "markdown",
      "metadata": {
        "id": "y1pXpxBsBBLD"
      },
      "source": [
        "#### **2. Similarity Calculation dan Pembuatan Model Rekomendasi**"
      ]
    },
    {
      "cell_type": "code",
      "execution_count": 17,
      "metadata": {
        "colab": {
          "base_uri": "https://localhost:8080/"
        },
        "id": "40sXz4qACDyy",
        "outputId": "57d5d3a8-c2d3-4fad-bf57-99172a599d6c"
      },
      "outputs": [
        {
          "name": "stdout",
          "output_type": "stream",
          "text": [
            "Describe the courses you are looking for: communication\n",
            "Input: communication\n",
            "\n",
            "From your input we can recommend:\n",
            "\n",
            "Title: communication strategies virtual age\n",
            "Description: communication changed traditional rules speaking presenting meeting coordination influencing people negotiating selling ideas longer apply world skype messenger video teleconference course act overview several concepts could course goal give tools practice perfect\n",
            "Syllabus: introduction virtual teams virtual communication module intended create foundation course challenging ideas virtual communication means also communication whole module also introduce foundational ideas whole course virtual meetings boring awesome module cover meetings person virtually discuss make meetings dramatically efficient effective also introduce strategies make meetings interactive keep audiences attention especially looking screen influence power questioning strategies virtual collaboration module move presenting convincing persuading ideas applied presentations also oneonone communication inperson virtually cover recognize peoples communication styles motivations strategically communicate way resonate speaking presenting virtual context module focuses presenting public speaking lesson cover communication strategy inperson presenting show use strategy virtual presentation\n",
            "Modules: fundamentals project initiationdefining project goals scope success criteriaworking effectively stakeholdersutilizing resources tools project successinstructoroffered byrecommended youre interested leadership managementmore questions\n",
            "Instructor: top instructorgoogle career certificatesgoogle courses learnersgooglelearn morecloseoffered bygooglegrow google initiative draws googles decadeslong history building products platforms services help people businesses grow aim help everyone make workforce today students drive workforce tomorrow access best googles training tools grow skills careers businessesok\n",
            "Cosine Similarity: 0.37126545495679625\n",
            "\n",
            "Title: fundamentals network communication\n",
            "Description: course trace evolution networks identify key concepts functions form basis layered architecture introduce examples protocols services familiar students explain services supported networks explain fundamental concepts digital communication focus error control techniques include parity check polynomial code internet checksum students required previous programming experience cprogramming cjava fundamental knowledge computer organization architecture background computer science plus\n",
            "Syllabus: communication networks services module discusses evolution three example networks associated services services influencing evolution modern networks examples protocols services layered architectures module discusses osi reference model show overall communication process organized functions carried seven layers introduces tcpip architecture detailed routing example socket api digital transmissions module introduces bsd sockets allow student write applications use service provided tcpip protocols also introduces fundamentals digital communications error control module presents coding techniques used detect errors may occur digital transmission coding techniques form basis protocols provide reliable transfer information course project fundamentals network communication comprehensive peer review assessment\n",
            "Modules: communication networks serviceslayered architectures socket api digital transmissionserror controlcourse project fundamentals network communicationinstructoroffered byrecommended youre interested computer security networksmore questions\n",
            "Instructor: xiaobo zhouuniversity colorado system courses learnersuniversity colorado systemlearn morecloseoffered byuniversity colorado systemthe university colorado recognized leader higher education national global stage collaborate meet diverse needs students communities promote innovation encourage discovery support extension knowledge ways unique state colorado beyondok\n",
            "Cosine Similarity: 0.266849167978543\n",
            "\n",
            "Title: improve english communication skills specialization\n",
            "Description: specialization helps improve professional communication english successful business interactions course focuses particular area communication english writing emails speaking meetings interviews giving presentations networking online whether want communicate potential employers employees partners clients better english communication help achieve language professional goals capstone course focus especially making important connections take career business next level make competitive improving english specialization improve english communication skills\n",
            "Syllabus: specify data\n",
            "Modules: working multiple worksheets workbookstext date functionsnamed rangessummarising datatablespivot tables charts slicersfinal assessmentinstructorsoffered byrecommended youre interested business essentialsmore questions\n",
            "Instructor: nicky bullmacquarie university courses learnersdr prashan karunaratnemacquarie university courses learnersprofessor yvonne breyermacquarie university courses learnersmacquarie universitylearn morecloseoffered bymacquarie universitymacquarie ranked among top one per cent universities world star qs rating recognised producing graduates among soughtafter professionals world since foundation years ago aspired different type university one focused fostering collaboration students academics industry societyok\n",
            "Cosine Similarity: 0.22837489000033961\n",
            "\n",
            "Title: improve english communication skills specialization\n",
            "Description: specialization helps improve professional communication english successful business interactions course focuses particular area communication english writing emails speaking meetings interviews giving presentations networking online whether want communicate potential employers employees partners clients better english communication help achieve language professional goals capstone course focus especially making important connections take career business next level make competitive improving english specialization improve english communication skills\n",
            "Syllabus: specify data\n",
            "Modules: project management basics successwork smarter harder time management personal professional productivityfinance nonfinancial professionalscommunication st century workplacehighimpact business writingthe art negotiationfundamentals managementeffective problemsolving decisionmakingessentials entrepreneurship thinking actioncareer success projectinstructorsoffered bymore questions\n",
            "Instructor: david standen mbauniversity california irvine courses learnersrob stone pmp meduniversity california irvine courses learners dave nagyuniversity california irvine courses learnersuniversity california irvinelearn morecloseoffered byuniversity california irvinesince university california irvine combined strengths major research university bounty incomparable southern california location ucis unyielding commitment rigorous academics cuttingedge research leadership character development makes campus driving force innovation discovery serves local national global communities many waysok\n",
            "Cosine Similarity: 0.20102357742018007\n",
            "\n",
            "Title: introduction networking storage\n",
            "Description: gain skills keep users connected learn diagnose repair basic networking security problems\n",
            "Syllabus: networking fundamentals communication involved almost every aspect daily life todays world computer networking plays vital role communication talking family friends paying bill checking grocery store keeping news course things go work depend form computer networking computer networking defined connection people use devices cables sometimes wireless signals week learn basic types shapes networks used also learn wired connections wireless connections network devices also learn basic instructions computers follow connect us ways expect understand data packaged electronically rules used send data rules made computers determine send data packages show syllabus show setting wiredwireless connections use cases one key components communicating understanding communicate includes knowing enables communication blocks true computer networking persontoperson interactions dont understand ways get data one point another data never arrive want week learn physical connectors transmit data youll learn basic steps setting small office home office networksboth wired wireless youll also learn wireless network types mobile configurations show syllabus show storage types network sharing weve discussed connection plays vital role communication another key component communication memory information useful cant recalled network storage memory located computer networking week learn different types network storage youll learn shortterm longterm memory different ways memory arranged increase capacity efficiency youll also learn local offsite cloud memory different kinds memory enable faster efficient interaction people devices software show syllabus show final exam\n",
            "Modules: networking fundamentals networking fundamentals part iiconfiguring troubleshooting networksstorage types network sharing final quiz assignmentinstructoroffered byrecommended youre interested networkingmore questions\n",
            "Instructor: ibm skills network teamibm courses learnersibmlearn morecloseoffered byibmibm global leader business transformation open hybrid cloud platform ai serving clients countries around world today fortune companies rely ibm cloud run business ibm watson enterprise ai hard work engagements ibm also one worlds vital corporate research organizations consecutive years patent leadership guided principles trust transparency support inclusive society ibm committed responsible technology innovator force good world information ibm visit wwwibmcomok\n",
            "Cosine Similarity: 0.1734353549235787\n",
            "\n",
            "Title: customer service fundamentals\n",
            "Description: growing number exciting wellpaying jobs todays tech industry require traditional college degree one hottest areas high demand customer service support customer service perfect entry point start career multitude job openings ranging onsite remote help desk work customer care client support help get customer service fundamentals course\n",
            "Syllabus: communication skills learners introduced work environment exploring importance building rapport maintaining positive tone communicating customers learners understand value demonstrate ability use clear concise communication skills learners also explore insider secrets success art saying use collaboration colleagues improve overall work experience throughout module learners practice apply newly acquired knowledge show syllabus show personality learners explore personality traits recognized leading indicators success field customer support learners identify basic characteristics personality trait evaluate strengths weaknesses reflect recommended strategies develop traits within practice apply newly acquired knowledge reacting resolving authentic call center problems show syllabus show problem solving learners discover best practices related finding evaluating resources used assist process solve problems provide customers resolutions learners explore various methods organizing resources efficiently retrieved needed making connections scientific method learners explore methodical problemsolving process apply realworld situations show syllabus show process control learners build learned communication personality problemsolving previous modules begin apply workplace learners introduced concept service level agreements explore impact service industry exploration standards learners begin understand value ticketing systems monitoring documentation used support customers finally learners examine technical skills practice refining typing diction skills learn technical terminology explore kcs methodology show syllabus show\n",
            "Modules: introduction hardwareoperating systemnetworkingsoftwaretroubleshootinginstructoroffered byrecommended youre interested support operationsmore questions\n",
            "Instructor: top instructorgoogle career certificatesgoogle courses learnersgooglelearn morecloseoffered bygooglegrow google initiative draws googles decadeslong history building products platforms services help people businesses grow aim help everyone make workforce today students drive workforce tomorrow access best googles training tools grow skills careers businessesok\n",
            "Cosine Similarity: 0.12034321664231692\n",
            "\n",
            "Title: storytelling influencing communicate impact\n",
            "Description: ambitious vision future organisation isnt enough communicate vision get colleagues board ability effectively communicate persuade others key leadership skill traditional commonsense models communication persuasion often fail capture complex nature influencing via structured learning activities video lectures quizzes discussion prompts written assessments course develop capacity communicate appropriately different situational cultural contexts making highly influential leader\n",
            "Syllabus: necessary art persuasion understanding matters audience heart persuasive communications solid understanding audience find appealing week learn basic theory persuasive communication including models information processing motivational appeals message acceptance fast slow decision making rules effective human interactions telling story developing dramatic narrative effective storytelling starts developing persuasive content structuring dramatic narrative spark imagination week learn apply storytelling principles like shaping beginning building middle making ending powerful learn find winning idea story colour emotions use metaphors quickly connect concepts peoples minds show syllabus show connecting people developing authenticity building rapport developing rapport trust crucial aspect persuasion fact crucial form supportive human interactions often times means able read situation adapt approach accordingly week learn speak authentically quickly build maintain rapport means accomplished include use verbal nonverbal cues techniques matching mirroring body language vocal qualities person show syllabus show talk talk creating impressions guiding influential conversations group meetings create lasting impressions important well run often meetings unproductive stress tension meetings also common week learn lead influential group conversation planning effective meeting aware dos donts meeting avoid groupthink make better decisions also learn power impression management show syllabus show painful truth dealing objections overcoming resistance conversations positive painful necessary like handling objections overcoming resistance week learn prepare stressful conversations deal objectionsyou understand nature objections people make reduce resistance defend proposals objections winning hearts minds pitch brilliant idea\n",
            "Modules: write professional emails englishspeak english professionally person online phonebuild professional eportfolio englishtake english communication skills next levelinstructorsoffered bymore questions\n",
            "Instructor: gerry landersgeorgia institute technology course learnersgeorgia institute technologylearn morecloseoffered bygeorgia institute technologythe georgia institute technology one nations top research universities distinguished commitment improving human condition advanced science technology georgia techs campus occupies acres heart city atlanta undergraduate graduate students receive focused technologically based educationok\n",
            "Cosine Similarity: 0.10281316122614767\n",
            "\n",
            "Title: spacecraft dynamics capstone mars mission\n",
            "Description: goal capstone spacecraft dynamics project employ skills developed rigid body kinematics kinetics control courses exciting twospacecraft mission mars considered primary mother craft communication daughter vehicle another orbit challenges include determining kinematics orbit frame several desired reference frames numerically simulating attitude dynamics spacecraft orbit implementing feedback control drives different spacecraft body frames range mission modes including sun pointing power generation nadir pointing science gathering mother spacecraft pointing communication data transfer finally integrated mission simulation developed implements attitude modes explores resulting autonomous closedloop performance\n",
            "Syllabus: introduction mission goal capstone spacecraft dynamics project employ skills developed rigid body kinematics kinetics control courses exciting twospacecraft mission mars considered primary mother craft communication daughter vehicle another orbit challenges include determining kinematics orbit frame several desired reference frames numerically simulating attitude dynamics spacecraft orbit implementing feedback control drives different spacecraft body frames range mission modes including sun pointing power generation nadir pointing science gathering mother spacecraft pointing communication data transfer finally integrated mission simulation developed implements attitude modes explores resulting autonomous closedloop performance show syllabus show orbits tasks use threedimensional kinematics create mission related orbit simulation associated orbit frames introductory step ensures satellite undergoing correct motion orbit frame orientation relative planet properly evaluated reference frame orientation tasks create required attitude reference frame three attitude pointing modes called sunpointing nadirpointing gmopointing reference attitude frame critical component ensure feedback control drives satellite desired orientation control employed remains three pointing modes performance different different attitude reference frames employed show syllabus show attitude evaluation simulator tasks create simulation routines first evaluate attitude tracking error bodyfixed frame particular reference frame current attitude mode next inertial attitude dynamics evaluated numerical simulation able numerically analyze control performance complete mission tasks simulate closedloop attitude performance three attitude modes tasks first simulate single attitude time tasks develops comprehensive attitude mission simulation considers attitude modes switching autonomously function spacecraft location relative planet please note time take complete module requisite tasks increased prior modules\n",
            "Modules: etivity research makes good research questionetivity literature review need oneetivity planning management skills important researchetivity know good researcher end projectinstructorsoffered byrecommended youre interested research methodsmore questions\n",
            "Instructor: dr j simon rofe soas university londonuniversity london courses learnersuniversity londonlearn morecloseoffered byuniversity londonthe university london federal university includes world leading colleges extensive experience distance learning since university london enriched lives thousands students delivering high quality degrees across globe today university london global leader flexible study offering degree programmes students countries delivering worldleading research across world find university london visit wwwlondonacuk oksoas university londonlearn morecloseoffered bysoas university londonsoas worlds leading institution study asia africa middle east offers truly global perspective vast repository knowledge expertise specialist regions soas uniquely placed inform shape current thinking economic political cultural security religious challenges world soas founded offers world class teaching law politics economics finance management development studies languages cultures history arts many areas ok\n",
            "Cosine Similarity: 0.07517463937010396\n",
            "\n",
            "Title: manage remote team\n",
            "Description: remote management much implementing workfromhome policy course youll learn apply remote work best practices build remote work policy prepare team success\n",
            "Syllabus: remote work best practices module learn prepare remotefriendly organization apply assessing current remote readiness managing remote teams module learn common challenges adjustments need made beginning manage remote team understand able evaluate performance morale success metrics remote adaptation processes organizations module gain understanding organizations current level remote adaptation begin map foundational strategy optimal remote operation culture values distributed teams module understand importance culture values statements supporting business strategy learn develop roll refine organizational values distributed team final assignment outline remote transition plan\n",
            "Modules: business metrics datadriven companiesmastering data analysis exceldata visualization communication tableaumanaging big data mysqlincreasing real estate management profits harnessing data analyticsinstructorsoffered byindustry partnersmore questions\n",
            "Instructor: jana schaich borgduke university courses learnersdaniel eggerduke university courses learnersduke universitylearn morecloseoffered byduke universityduke university undergraduate graduate students worldclass faculty helping expand frontiers knowledge university strong commitment applying knowledge service society near north carolina campus around worldok\n",
            "Cosine Similarity: 0.041403142770173554\n",
            "\n",
            "Title: astrobiology exploring worlds\n",
            "Description: astronomers approaching search life universe learned surge exoplanets discoveries likely earth host life universe course explore field astrobiology emerging multidisciplinary field progress astrobiology driven telescopes ground space new insights life emerged earth diversity topics course range science exoplanets detected chemistry supports argument ingredients life common universe\n",
            "Syllabus: planets solar system beyond students learn planet formation examining solar system basic principles apply exoplanets planets around stars hunting exoplanets students learn astronomers look planets around stars difficult find learn properties planets detection method habitability students learn features stars exoplanets might promote development life outside earth life students learn biological history earth life develop thrive extreme conditions else universe life might exist emerging complex life intelligence students learn development complex organisms earth biological processes led species evolving intelligence seti cosmic companionship students learn possibilities finding intelligence species planets challenges interplanetary interspecies communication exploration\n",
            "Modules: introduction missionorbitsreference frame orientationattitude evaluation simulatorcomplete missioninstructoroffered byrecommended youre interested physics astronomymore questions\n",
            "Instructor: hanspeter schaubuniversity colorado boulder courses learnersuniversity colorado boulderlearn morecloseoffered byuniversity colorado bouldercuboulder dynamic community scholars learners one spectacular college campuses country one us public institutions prestigious association american universities aau proud tradition academic excellence five nobel laureates members prestigious academic academiesok\n",
            "Cosine Similarity: 0.04015009780558233\n",
            "\n"
          ]
        }
      ],
      "source": [
        "# input usernya\n",
        "user_input = input(\"Describe the courses you are looking for: \")\n",
        "\n",
        "# cek inputan user, kalau tidak kosong\n",
        "if user_input.strip():\n",
        "\n",
        "    # konversi input user jadi representasi TF-IDF\n",
        "    user_tfidf = tfidf_desc.transform([user_input])\n",
        "\n",
        "    # hitung similarity dengan deskripsi buku lain dalam dataset\n",
        "    similarities = cosine_similarity(user_tfidf, tfidf_desc.transform(df['combined_clean']))\n",
        "\n",
        "    # ambil top 10 buku dengan cosine similarity tertinggi dengan input user\n",
        "    top_indices = similarities.argsort()[0][-10:][::-1]\n",
        "\n",
        "    # munculkan hasil rekomendasi ke user\n",
        "    print(f'Input: {user_input}\\n')\n",
        "    print(\"From your input we can recommend:\\n\")\n",
        "    for idx in top_indices:\n",
        "        print(\"Title:\", df.iloc[idx]['title_clean'])\n",
        "        print(\"Description:\", df.iloc[idx]['description_clean'])\n",
        "        print(\"Syllabus:\", df.iloc[idx]['syllabus_clean'])\n",
        "        print(\"Modules:\", df.iloc[idx]['modules_clean'])\n",
        "        print(\"Instructor:\", df.iloc[idx]['instructor_clean'])\n",
        "        print(\"Cosine Similarity:\", similarities[0][idx])\n",
        "        print()\n",
        "\n",
        "# kalau user tidak memberi inputan\n",
        "else:\n",
        "    print('Please provide the description.')"
      ]
    },
    {
      "cell_type": "markdown",
      "metadata": {
        "id": "lxE7MPSBAqOn"
      },
      "source": [
        "**DI BAWAH INI CODE YANG SALAH**"
      ]
    },
    {
      "cell_type": "code",
      "execution_count": 18,
      "metadata": {
        "id": "IWetB-wVBjYJ"
      },
      "outputs": [],
      "source": [
        "# # Menghitung Frekuensi Kata (Optional)\n",
        "# df['word_list'] = df['combined_clean'].apply(lambda x: x.split())\n",
        "# word_count = Counter([item for sublist in df['word_list'] for item in sublist])\n",
        "# word_freq_df = pd.DataFrame(word_count.most_common(70), columns=['Words', 'Count'])\n",
        "# word_freq_df.style.background_gradient(cmap='Blues')"
      ]
    },
    {
      "cell_type": "code",
      "execution_count": 19,
      "metadata": {
        "id": "l4ztCEJdP3I1"
      },
      "outputs": [],
      "source": [
        "# # Define Stopwords\n",
        "# stpwds_id = list(set(stopwords.words('english')))\n",
        "\n",
        "# # Add custom stopwords\n",
        "# custom_stopwords = ['the', 'to', 'and', 'I', 'was', 'a', 'in', 'of', ' for', 'on', 'flight', 'with', 'that', 'my', 'is', 'not', 'were', 'they',\n",
        "#                     'The', 'at', 'we', 'had', 'from', 'but', 'have', 'it', 'this', 'no', 'as', 'me', 'you', 'our', 'be', 'are', 'an', 'very', 'so',\n",
        "#                     'service', 'their', 'We', 'time','airline', 'would', 'or', 'us', 'by', 'only', 'get', 'all' 'which']\n",
        "# #\n",
        "# # Extend the stopwords\n",
        "# stpwds_id.extend(custom_stopwords)"
      ]
    },
    {
      "cell_type": "code",
      "execution_count": 20,
      "metadata": {
        "id": "87kI20w_P5OS"
      },
      "outputs": [],
      "source": [
        "# from nltk.stem import PorterStemmer\n",
        "\n",
        "# # Define Stemming\n",
        "# stemmer = PorterStemmer()"
      ]
    },
    {
      "cell_type": "code",
      "execution_count": 21,
      "metadata": {
        "id": "h1uAjCNbQCJe"
      },
      "outputs": [],
      "source": [
        "# from nltk.tokenize import word_tokenize\n",
        "\n",
        "\n",
        "# # Create A Function for Text Preprocessing\n",
        "# def text_preprocessing(text):\n",
        "\n",
        "#     # Case folding\n",
        "#     text = text.lower()\n",
        "\n",
        "#     # Mention removal\n",
        "#     text = re.sub(r'https?://(?:www\\.[^\\s\\n\\r]+|[^\\s\\n\\r]+)', '', text)\n",
        "\n",
        "#     # Hashtags removal\n",
        "#     text = re.sub(r'#', '', text)\n",
        "\n",
        "#     # Newline removal (\\n)\n",
        "#     text = re.sub(r'[\\n\\r]', '', text)\n",
        "\n",
        "#     # Replaces the numbers with an empty string\n",
        "#     text = re.sub(r'\\d+', '', text)\n",
        "\n",
        "#     # Whitespace removal\n",
        "#     text = text.strip()\n",
        "\n",
        "#     # URL removal\n",
        "#     text = re.sub(r\"http\\S+\", \" \", text)\n",
        "#     text = re.sub(r\"www.\\S+\", \" \", text)\n",
        "\n",
        "#     # Non-letter removal (such as emoticon, symbol (like μ, $, 兀), etc.)\n",
        "#     text = re.sub(\"[^A-Za-z\\s']\", \" \", text)\n",
        "\n",
        "#     # Tokenization\n",
        "#     tokens = word_tokenize(text)\n",
        "\n",
        "#     # Stopwords removal\n",
        "#     tokens = [word for word in tokens if word not in stpwds_id]\n",
        "\n",
        "#     # Stemming\n",
        "#     tokens = [stemmer.stem(word) for word in tokens]\n",
        "\n",
        "#     # Combining Tokens\n",
        "#     text = ' '.join(tokens)\n",
        "\n",
        "#     return text"
      ]
    },
    {
      "cell_type": "code",
      "execution_count": 22,
      "metadata": {
        "id": "XBcBUvtySYVm"
      },
      "outputs": [],
      "source": [
        "# import nltk\n",
        "# nltk.download('punkt')"
      ]
    },
    {
      "cell_type": "code",
      "execution_count": 23,
      "metadata": {
        "id": "JtT5kY4QQXl-"
      },
      "outputs": [],
      "source": [
        "# # Applying Text Preprocessing to the Dataset\n",
        "# df['neew_combined'] = df['combined_clean'].apply(lambda x: text_preprocessing(x))\n",
        "\n",
        "# # Show the first 5 rows\n",
        "# df.head()"
      ]
    },
    {
      "cell_type": "code",
      "execution_count": 24,
      "metadata": {
        "id": "27KAUcDoze9L"
      },
      "outputs": [],
      "source": [
        "# # Instal langdetect\n",
        "# !pip install langdetect"
      ]
    },
    {
      "cell_type": "code",
      "execution_count": 25,
      "metadata": {
        "id": "eeufhZnxyHov"
      },
      "outputs": [],
      "source": [
        "# import pandas as pd\n",
        "# from langdetect import detect, DetectorFactory\n",
        "# from langdetect.lang_detect_exception import LangDetectException\n",
        "# import nltk\n",
        "# from nltk.corpus import stopwords\n",
        "\n",
        "# # Pastikan untuk mendownload stopwords NLTK dan tokenizer\n",
        "# nltk.download('stopwords')\n",
        "# nltk.download('punkt')\n",
        "\n",
        "# # Untuk hasil yang konsisten\n",
        "# DetectorFactory.seed = 0\n",
        "\n",
        "# # kolom teks dalam dataset\n",
        "# text_column = 'combined_clean'\n",
        "\n",
        "# # Fungsi untuk mendeteksi bahasa\n",
        "# def detect_language(word):\n",
        "#     try:\n",
        "#         return detect(word)\n",
        "#     except LangDetectException:\n",
        "#         return \"unknown\""
      ]
    },
    {
      "cell_type": "code",
      "execution_count": 26,
      "metadata": {
        "id": "O1ziywr52qg1"
      },
      "outputs": [],
      "source": [
        "# # Menggabungkan semua teks dalam satu kolom menjadi satu string besar\n",
        "# all_text = ' '.join(df[text_column].astype(str).tolist())\n",
        "\n",
        "# # Menghapus karakter non-alfabetik selain spasi untuk memastikan kata-kata dipisahkan dengan benar\n",
        "# all_text = ''.join([char if char.isalpha() or char.isspace() else ' ' for char in all_text])\n",
        "\n",
        "# # Tokenisasi\n",
        "# words = nltk.word_tokenize(all_text)\n",
        "\n",
        "# # Menghapus tanda baca (pastikan hanya kata alfanumerik)\n",
        "# words = [word for word in words if word.isalnum()]\n",
        "\n",
        "# # Deteksi bahasa dan filter hanya bahasa Inggris\n",
        "# english_words = [word for word in words if detect_language(word) == 'en']\n",
        "\n",
        "# # Menghapus stopwords bahasa Inggris\n",
        "# stopwords_english = set(stopwords.words('english'))\n",
        "# filtered_words = [word for word in english_words if word.lower() not in stopwords_english]\n",
        "\n",
        "# # Menampilkan kata-kata yang tersisa\n",
        "# print(filtered_words[:50])\n",
        "\n",
        "# # Menyimpan kata-kata yang tersisa ke file baru jika diperlukan\n",
        "# filtered_words_df = pd.DataFrame(filtered_words, columns=['word'])\n",
        "# filtered_words_df.to_csv(\"filtered_words.csv\", index=False)"
      ]
    },
    {
      "cell_type": "markdown",
      "metadata": {
        "id": "hh-y6f02sSB4"
      },
      "source": [
        "Selanjutnya, **menghitung frekuensi kata-kata** yang muncul dalam teks gabungan.\n"
      ]
    }
  ],
  "metadata": {
    "colab": {
      "provenance": []
    },
    "kernelspec": {
      "display_name": "Python 3",
      "name": "python3"
    },
    "language_info": {
      "codemirror_mode": {
        "name": "ipython",
        "version": 3
      },
      "file_extension": ".py",
      "mimetype": "text/x-python",
      "name": "python",
      "nbconvert_exporter": "python",
      "pygments_lexer": "ipython3",
      "version": "3.9.19"
    }
  },
  "nbformat": 4,
  "nbformat_minor": 0
}
